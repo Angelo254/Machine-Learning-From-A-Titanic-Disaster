{
  "nbformat": 4,
  "nbformat_minor": 0,
  "metadata": {
    "colab": {
      "name": "The_Titanic_Moringa_Data_Science_Core_W9_Independent_Project_2021_10_Angelo_Sang_Python",
      "provenance": [],
      "collapsed_sections": [
        "PHL0AR_0dgKO",
        "v5Kg6A4ld0mq",
        "MYykcIm_eP_G",
        "AYGd_Bizev2g",
        "_jEzFhuOff7d",
        "8C0CatN2lIyd",
        "VuFRD4pThmWJ",
        "p7j_IcxojNAK",
        "_O71hdl0kBeY",
        "06s8ZVJJotj6",
        "zQgYd0sqptK1",
        "P3lerTmGtXWt",
        "BZ9SOgA0wRM1",
        "YJv_YuJbz0zK",
        "8m5TghDONa8V",
        "cizR_3auUXVa",
        "7bOYzKMHaEvF",
        "AWHefJ11aZG6",
        "ZvFP91N0aoBU",
        "3ndworKuhX81",
        "oZhiPjHrbDAL",
        "DviLcmaUibvd",
        "Z93FOAQjiiPK",
        "K8GyvBGlj3o8",
        "RVnQG5oEuIru",
        "VxOq3c2kuevo",
        "9UJ4XtqHEDGl",
        "QmxdF7HrJdwO",
        "2gvcFqCNLyy1",
        "4y6Zi2LNNO0z",
        "mgoQl8sXP47E",
        "rttAicnZSc2k",
        "bKbhcdSwd5ee",
        "3Sdv7Uv5eKto",
        "FticAeBkkADs",
        "EuH29T1rkHFf",
        "7usB_Fqv13Yv",
        "Q0jN6ym_73Te",
        "sLtX_xGVArco",
        "kr8RP8NqDEmN",
        "3an-in1PFDPI"
      ],
      "authorship_tag": "ABX9TyPMq04VdmXrsc0Yj8IlpGoB",
      "include_colab_link": true
    },
    "kernelspec": {
      "name": "python3",
      "display_name": "Python 3"
    },
    "language_info": {
      "name": "python"
    }
  },
  "cells": [
    {
      "cell_type": "markdown",
      "metadata": {
        "id": "view-in-github",
        "colab_type": "text"
      },
      "source": [
        "<a href=\"https://colab.research.google.com/github/Angelo254/Machine-Learning-From-A-Titanic-Disaster/blob/master/The_Titanic_Moringa_Data_Science_Core_W9_Independent_Project_2021_10_Angelo_Sang_Python.ipynb\" target=\"_parent\"><img src=\"https://colab.research.google.com/assets/colab-badge.svg\" alt=\"Open In Colab\"/></a>"
      ]
    },
    {
      "cell_type": "markdown",
      "metadata": {
        "id": "PHL0AR_0dgKO"
      },
      "source": [
        "# Machine Learning From a Disaster(Titanic)"
      ]
    },
    {
      "cell_type": "markdown",
      "metadata": {
        "id": "v5Kg6A4ld0mq"
      },
      "source": [
        "## Business Understanding\n"
      ]
    },
    {
      "cell_type": "markdown",
      "metadata": {
        "id": "yZ7YkADzeK8a"
      },
      "source": [
        "\n",
        "RMS Titanic was a British passenger liner operated by the White Star Line,\n",
        "that sank in the North Atlantic Ocean in the early morning hours of April 15, 1912.\n",
        "The Titanic struck an iceberg during her maiden voyage from Southampton to New York City. \n",
        "Of the estimated 2,224 passengers and crew aboard, more than 1,500 died, \n",
        "making the sinking one of modern history's deadliest peacetime commercial marine disasters. "
      ]
    },
    {
      "cell_type": "markdown",
      "metadata": {
        "id": "MYykcIm_eP_G"
      },
      "source": [
        "## Specifying the Data Analytic Question"
      ]
    },
    {
      "cell_type": "markdown",
      "metadata": {
        "id": "09-63c7CeeIn"
      },
      "source": [
        "Use machine learning to creat a model that predicts which passengers survived the Titanic shipwreck."
      ]
    },
    {
      "cell_type": "markdown",
      "metadata": {
        "id": "AYGd_Bizev2g"
      },
      "source": [
        "## Defining the Metric for Success"
      ]
    },
    {
      "cell_type": "markdown",
      "metadata": {
        "id": "zV9pEPfBe3M1"
      },
      "source": [
        "1) We identify the most important features for predicting the chances of survival.\n",
        "\n",
        "2) The model achieves atleast 80% accuracy.\n",
        "\n",
        "3) The confusion matrix has the lowest possible false positive and false negatives."
      ]
    },
    {
      "cell_type": "markdown",
      "metadata": {
        "id": "_jEzFhuOff7d"
      },
      "source": [
        "## Data Understanding"
      ]
    },
    {
      "cell_type": "markdown",
      "metadata": {
        "id": "8C0CatN2lIyd"
      },
      "source": [
        "### Variable Descriptions"
      ]
    },
    {
      "cell_type": "markdown",
      "metadata": {
        "id": "RF5ST4DNfmez"
      },
      "source": [
        "* Pclass - passenger class (1 = 1st; 2 = 2nd; 3 = 3rd)\n",
        "* survival - Survival (0 = No; 1 = Yes)\n",
        "* name - Name\n",
        "* sex - Sex\n",
        "* age - Age\n",
        "* sibsp - Number of Siblings/Spouses Aboard\n",
        "* parch - Number of Parents/Children Aboard\n",
        "* ticket - Ticket Number\n",
        "* fare - Passenger Fare (British pound)\n",
        "* cabin - Cabin \n",
        "* embarked - Port of Embarkation (c = Cherbourg; Q = Queens town; S = Southampton)"
      ]
    },
    {
      "cell_type": "markdown",
      "metadata": {
        "id": "VuFRD4pThmWJ"
      },
      "source": [
        "### Recording the Experimental Design"
      ]
    },
    {
      "cell_type": "markdown",
      "metadata": {
        "id": "Aj5gIcLdhvzi"
      },
      "source": [
        "* The project was undertaken using the following design Datasets(titanic.csv).\n",
        "* Exploratory Data Analysis.\n",
        "* Data Cleaning.\n",
        "* External Data Source Validation.\n",
        "* Univariate Analysis.\n",
        "* Bivariate Analysis.\n",
        "* Multivariate Analysis.\n",
        "* Modelling: KNN(K- Nearest Neighbor), Naive Bayes.\n",
        "* Challenging the solution: Modelling using the first 5 principal Components.\n",
        "* Follow up questions.\n",
        "* Conclusion."
      ]
    },
    {
      "cell_type": "markdown",
      "metadata": {
        "id": "p7j_IcxojNAK"
      },
      "source": [
        "### Data Relevance"
      ]
    },
    {
      "cell_type": "markdown",
      "metadata": {
        "id": "5uhZUqcAjQjX"
      },
      "source": [
        "* How accurate is the data at predicting whether a passenger survived or not?\n",
        "* Was the dataset sufficient?\n",
        "* Was the data biased?\n",
        "* Is the data source a reliable source?"
      ]
    },
    {
      "cell_type": "markdown",
      "metadata": {
        "id": "_O71hdl0kBeY"
      },
      "source": [
        "### Importing the libraries"
      ]
    },
    {
      "cell_type": "code",
      "metadata": {
        "id": "trmHqOzj4527"
      },
      "source": [
        "import pandas as pd\n",
        "import numpy as np\n",
        "import seaborn as sns\n",
        "from sklearn.preprocessing import LabelEncoder\n",
        "import matplotlib.pyplot as plt\n",
        "from sklearn.preprocessing import PolynomialFeatures\n",
        "from sklearn.model_selection import train_test_split\n",
        "from sklearn.linear_model import LinearRegression\n",
        "from sklearn.decomposition import PCA\n",
        "from sklearn.model_selection import train_test_split, GridSearchCV\n",
        "from sklearn.linear_model import LogisticRegression\n",
        "from sklearn.ensemble import RandomForestRegressor, RandomForestClassifier\n",
        "from sklearn.naive_bayes import GaussianNB\n",
        "from sklearn.metrics import mean_squared_error,r2_score,accuracy_score,f1_score,classification_report\n",
        "from sklearn.metrics import confusion_matrix\n",
        "from sklearn import metrics\n",
        "import warnings\n",
        "warnings.filterwarnings('ignore')\n",
        "%matplotlib inline"
      ],
      "execution_count": 242,
      "outputs": []
    },
    {
      "cell_type": "markdown",
      "metadata": {
        "id": "06s8ZVJJotj6"
      },
      "source": [
        "### Reading the Data"
      ]
    },
    {
      "cell_type": "code",
      "metadata": {
        "id": "3Y1hOOFMnskg"
      },
      "source": [
        "# Loading the data from the source\n",
        "# Dataset source = train.csv\n",
        "df_train = pd.read_csv('train.csv')\n",
        "df_test = pd.read_csv('test.csv')"
      ],
      "execution_count": 243,
      "outputs": []
    },
    {
      "cell_type": "markdown",
      "metadata": {
        "id": "zQgYd0sqptK1"
      },
      "source": [
        "### Checking the Data"
      ]
    },
    {
      "cell_type": "code",
      "metadata": {
        "colab": {
          "base_uri": "https://localhost:8080/",
          "height": 0
        },
        "id": "PyAYGBGvp1vs",
        "outputId": "58bd5714-e31a-4d43-a98a-6b680e279c75"
      },
      "source": [
        "# Previewing the train dataset\n",
        "df_train.head()"
      ],
      "execution_count": 244,
      "outputs": [
        {
          "output_type": "execute_result",
          "data": {
            "text/html": [
              "<div>\n",
              "<style scoped>\n",
              "    .dataframe tbody tr th:only-of-type {\n",
              "        vertical-align: middle;\n",
              "    }\n",
              "\n",
              "    .dataframe tbody tr th {\n",
              "        vertical-align: top;\n",
              "    }\n",
              "\n",
              "    .dataframe thead th {\n",
              "        text-align: right;\n",
              "    }\n",
              "</style>\n",
              "<table border=\"1\" class=\"dataframe\">\n",
              "  <thead>\n",
              "    <tr style=\"text-align: right;\">\n",
              "      <th></th>\n",
              "      <th>PassengerId</th>\n",
              "      <th>Survived</th>\n",
              "      <th>Pclass</th>\n",
              "      <th>Name</th>\n",
              "      <th>Sex</th>\n",
              "      <th>Age</th>\n",
              "      <th>SibSp</th>\n",
              "      <th>Parch</th>\n",
              "      <th>Ticket</th>\n",
              "      <th>Fare</th>\n",
              "      <th>Cabin</th>\n",
              "      <th>Embarked</th>\n",
              "    </tr>\n",
              "  </thead>\n",
              "  <tbody>\n",
              "    <tr>\n",
              "      <th>0</th>\n",
              "      <td>1</td>\n",
              "      <td>0</td>\n",
              "      <td>3</td>\n",
              "      <td>Braund, Mr. Owen Harris</td>\n",
              "      <td>male</td>\n",
              "      <td>22.0</td>\n",
              "      <td>1</td>\n",
              "      <td>0</td>\n",
              "      <td>A/5 21171</td>\n",
              "      <td>7.2500</td>\n",
              "      <td>NaN</td>\n",
              "      <td>S</td>\n",
              "    </tr>\n",
              "    <tr>\n",
              "      <th>1</th>\n",
              "      <td>2</td>\n",
              "      <td>1</td>\n",
              "      <td>1</td>\n",
              "      <td>Cumings, Mrs. John Bradley (Florence Briggs Th...</td>\n",
              "      <td>female</td>\n",
              "      <td>38.0</td>\n",
              "      <td>1</td>\n",
              "      <td>0</td>\n",
              "      <td>PC 17599</td>\n",
              "      <td>71.2833</td>\n",
              "      <td>C85</td>\n",
              "      <td>C</td>\n",
              "    </tr>\n",
              "    <tr>\n",
              "      <th>2</th>\n",
              "      <td>3</td>\n",
              "      <td>1</td>\n",
              "      <td>3</td>\n",
              "      <td>Heikkinen, Miss. Laina</td>\n",
              "      <td>female</td>\n",
              "      <td>26.0</td>\n",
              "      <td>0</td>\n",
              "      <td>0</td>\n",
              "      <td>STON/O2. 3101282</td>\n",
              "      <td>7.9250</td>\n",
              "      <td>NaN</td>\n",
              "      <td>S</td>\n",
              "    </tr>\n",
              "    <tr>\n",
              "      <th>3</th>\n",
              "      <td>4</td>\n",
              "      <td>1</td>\n",
              "      <td>1</td>\n",
              "      <td>Futrelle, Mrs. Jacques Heath (Lily May Peel)</td>\n",
              "      <td>female</td>\n",
              "      <td>35.0</td>\n",
              "      <td>1</td>\n",
              "      <td>0</td>\n",
              "      <td>113803</td>\n",
              "      <td>53.1000</td>\n",
              "      <td>C123</td>\n",
              "      <td>S</td>\n",
              "    </tr>\n",
              "    <tr>\n",
              "      <th>4</th>\n",
              "      <td>5</td>\n",
              "      <td>0</td>\n",
              "      <td>3</td>\n",
              "      <td>Allen, Mr. William Henry</td>\n",
              "      <td>male</td>\n",
              "      <td>35.0</td>\n",
              "      <td>0</td>\n",
              "      <td>0</td>\n",
              "      <td>373450</td>\n",
              "      <td>8.0500</td>\n",
              "      <td>NaN</td>\n",
              "      <td>S</td>\n",
              "    </tr>\n",
              "  </tbody>\n",
              "</table>\n",
              "</div>"
            ],
            "text/plain": [
              "   PassengerId  Survived  Pclass  ...     Fare Cabin  Embarked\n",
              "0            1         0       3  ...   7.2500   NaN         S\n",
              "1            2         1       1  ...  71.2833   C85         C\n",
              "2            3         1       3  ...   7.9250   NaN         S\n",
              "3            4         1       1  ...  53.1000  C123         S\n",
              "4            5         0       3  ...   8.0500   NaN         S\n",
              "\n",
              "[5 rows x 12 columns]"
            ]
          },
          "metadata": {},
          "execution_count": 244
        }
      ]
    },
    {
      "cell_type": "code",
      "metadata": {
        "colab": {
          "base_uri": "https://localhost:8080/",
          "height": 0
        },
        "id": "2dwVh0OMqBJ7",
        "outputId": "76ce183c-f223-4eed-84b6-f1ee7f5293e3"
      },
      "source": [
        "# Previewing the tail\n",
        "df_train.tail()"
      ],
      "execution_count": 245,
      "outputs": [
        {
          "output_type": "execute_result",
          "data": {
            "text/html": [
              "<div>\n",
              "<style scoped>\n",
              "    .dataframe tbody tr th:only-of-type {\n",
              "        vertical-align: middle;\n",
              "    }\n",
              "\n",
              "    .dataframe tbody tr th {\n",
              "        vertical-align: top;\n",
              "    }\n",
              "\n",
              "    .dataframe thead th {\n",
              "        text-align: right;\n",
              "    }\n",
              "</style>\n",
              "<table border=\"1\" class=\"dataframe\">\n",
              "  <thead>\n",
              "    <tr style=\"text-align: right;\">\n",
              "      <th></th>\n",
              "      <th>PassengerId</th>\n",
              "      <th>Survived</th>\n",
              "      <th>Pclass</th>\n",
              "      <th>Name</th>\n",
              "      <th>Sex</th>\n",
              "      <th>Age</th>\n",
              "      <th>SibSp</th>\n",
              "      <th>Parch</th>\n",
              "      <th>Ticket</th>\n",
              "      <th>Fare</th>\n",
              "      <th>Cabin</th>\n",
              "      <th>Embarked</th>\n",
              "    </tr>\n",
              "  </thead>\n",
              "  <tbody>\n",
              "    <tr>\n",
              "      <th>886</th>\n",
              "      <td>887</td>\n",
              "      <td>0</td>\n",
              "      <td>2</td>\n",
              "      <td>Montvila, Rev. Juozas</td>\n",
              "      <td>male</td>\n",
              "      <td>27.0</td>\n",
              "      <td>0</td>\n",
              "      <td>0</td>\n",
              "      <td>211536</td>\n",
              "      <td>13.00</td>\n",
              "      <td>NaN</td>\n",
              "      <td>S</td>\n",
              "    </tr>\n",
              "    <tr>\n",
              "      <th>887</th>\n",
              "      <td>888</td>\n",
              "      <td>1</td>\n",
              "      <td>1</td>\n",
              "      <td>Graham, Miss. Margaret Edith</td>\n",
              "      <td>female</td>\n",
              "      <td>19.0</td>\n",
              "      <td>0</td>\n",
              "      <td>0</td>\n",
              "      <td>112053</td>\n",
              "      <td>30.00</td>\n",
              "      <td>B42</td>\n",
              "      <td>S</td>\n",
              "    </tr>\n",
              "    <tr>\n",
              "      <th>888</th>\n",
              "      <td>889</td>\n",
              "      <td>0</td>\n",
              "      <td>3</td>\n",
              "      <td>Johnston, Miss. Catherine Helen \"Carrie\"</td>\n",
              "      <td>female</td>\n",
              "      <td>NaN</td>\n",
              "      <td>1</td>\n",
              "      <td>2</td>\n",
              "      <td>W./C. 6607</td>\n",
              "      <td>23.45</td>\n",
              "      <td>NaN</td>\n",
              "      <td>S</td>\n",
              "    </tr>\n",
              "    <tr>\n",
              "      <th>889</th>\n",
              "      <td>890</td>\n",
              "      <td>1</td>\n",
              "      <td>1</td>\n",
              "      <td>Behr, Mr. Karl Howell</td>\n",
              "      <td>male</td>\n",
              "      <td>26.0</td>\n",
              "      <td>0</td>\n",
              "      <td>0</td>\n",
              "      <td>111369</td>\n",
              "      <td>30.00</td>\n",
              "      <td>C148</td>\n",
              "      <td>C</td>\n",
              "    </tr>\n",
              "    <tr>\n",
              "      <th>890</th>\n",
              "      <td>891</td>\n",
              "      <td>0</td>\n",
              "      <td>3</td>\n",
              "      <td>Dooley, Mr. Patrick</td>\n",
              "      <td>male</td>\n",
              "      <td>32.0</td>\n",
              "      <td>0</td>\n",
              "      <td>0</td>\n",
              "      <td>370376</td>\n",
              "      <td>7.75</td>\n",
              "      <td>NaN</td>\n",
              "      <td>Q</td>\n",
              "    </tr>\n",
              "  </tbody>\n",
              "</table>\n",
              "</div>"
            ],
            "text/plain": [
              "     PassengerId  Survived  Pclass  ...   Fare Cabin  Embarked\n",
              "886          887         0       2  ...  13.00   NaN         S\n",
              "887          888         1       1  ...  30.00   B42         S\n",
              "888          889         0       3  ...  23.45   NaN         S\n",
              "889          890         1       1  ...  30.00  C148         C\n",
              "890          891         0       3  ...   7.75   NaN         Q\n",
              "\n",
              "[5 rows x 12 columns]"
            ]
          },
          "metadata": {},
          "execution_count": 245
        }
      ]
    },
    {
      "cell_type": "code",
      "metadata": {
        "colab": {
          "base_uri": "https://localhost:8080/",
          "height": 0
        },
        "id": "6UupnTTsqbG_",
        "outputId": "58dda017-63d3-4f3b-b851-5e4f515d431e"
      },
      "source": [
        "# previewing the test dataset\n",
        "df_test.head()"
      ],
      "execution_count": 246,
      "outputs": [
        {
          "output_type": "execute_result",
          "data": {
            "text/html": [
              "<div>\n",
              "<style scoped>\n",
              "    .dataframe tbody tr th:only-of-type {\n",
              "        vertical-align: middle;\n",
              "    }\n",
              "\n",
              "    .dataframe tbody tr th {\n",
              "        vertical-align: top;\n",
              "    }\n",
              "\n",
              "    .dataframe thead th {\n",
              "        text-align: right;\n",
              "    }\n",
              "</style>\n",
              "<table border=\"1\" class=\"dataframe\">\n",
              "  <thead>\n",
              "    <tr style=\"text-align: right;\">\n",
              "      <th></th>\n",
              "      <th>PassengerId</th>\n",
              "      <th>Pclass</th>\n",
              "      <th>Name</th>\n",
              "      <th>Sex</th>\n",
              "      <th>Age</th>\n",
              "      <th>SibSp</th>\n",
              "      <th>Parch</th>\n",
              "      <th>Ticket</th>\n",
              "      <th>Fare</th>\n",
              "      <th>Cabin</th>\n",
              "      <th>Embarked</th>\n",
              "    </tr>\n",
              "  </thead>\n",
              "  <tbody>\n",
              "    <tr>\n",
              "      <th>0</th>\n",
              "      <td>892</td>\n",
              "      <td>3</td>\n",
              "      <td>Kelly, Mr. James</td>\n",
              "      <td>male</td>\n",
              "      <td>34.5</td>\n",
              "      <td>0</td>\n",
              "      <td>0</td>\n",
              "      <td>330911</td>\n",
              "      <td>7.8292</td>\n",
              "      <td>NaN</td>\n",
              "      <td>Q</td>\n",
              "    </tr>\n",
              "    <tr>\n",
              "      <th>1</th>\n",
              "      <td>893</td>\n",
              "      <td>3</td>\n",
              "      <td>Wilkes, Mrs. James (Ellen Needs)</td>\n",
              "      <td>female</td>\n",
              "      <td>47.0</td>\n",
              "      <td>1</td>\n",
              "      <td>0</td>\n",
              "      <td>363272</td>\n",
              "      <td>7.0000</td>\n",
              "      <td>NaN</td>\n",
              "      <td>S</td>\n",
              "    </tr>\n",
              "    <tr>\n",
              "      <th>2</th>\n",
              "      <td>894</td>\n",
              "      <td>2</td>\n",
              "      <td>Myles, Mr. Thomas Francis</td>\n",
              "      <td>male</td>\n",
              "      <td>62.0</td>\n",
              "      <td>0</td>\n",
              "      <td>0</td>\n",
              "      <td>240276</td>\n",
              "      <td>9.6875</td>\n",
              "      <td>NaN</td>\n",
              "      <td>Q</td>\n",
              "    </tr>\n",
              "    <tr>\n",
              "      <th>3</th>\n",
              "      <td>895</td>\n",
              "      <td>3</td>\n",
              "      <td>Wirz, Mr. Albert</td>\n",
              "      <td>male</td>\n",
              "      <td>27.0</td>\n",
              "      <td>0</td>\n",
              "      <td>0</td>\n",
              "      <td>315154</td>\n",
              "      <td>8.6625</td>\n",
              "      <td>NaN</td>\n",
              "      <td>S</td>\n",
              "    </tr>\n",
              "    <tr>\n",
              "      <th>4</th>\n",
              "      <td>896</td>\n",
              "      <td>3</td>\n",
              "      <td>Hirvonen, Mrs. Alexander (Helga E Lindqvist)</td>\n",
              "      <td>female</td>\n",
              "      <td>22.0</td>\n",
              "      <td>1</td>\n",
              "      <td>1</td>\n",
              "      <td>3101298</td>\n",
              "      <td>12.2875</td>\n",
              "      <td>NaN</td>\n",
              "      <td>S</td>\n",
              "    </tr>\n",
              "  </tbody>\n",
              "</table>\n",
              "</div>"
            ],
            "text/plain": [
              "   PassengerId  Pclass  ... Cabin Embarked\n",
              "0          892       3  ...   NaN        Q\n",
              "1          893       3  ...   NaN        S\n",
              "2          894       2  ...   NaN        Q\n",
              "3          895       3  ...   NaN        S\n",
              "4          896       3  ...   NaN        S\n",
              "\n",
              "[5 rows x 11 columns]"
            ]
          },
          "metadata": {},
          "execution_count": 246
        }
      ]
    },
    {
      "cell_type": "code",
      "metadata": {
        "colab": {
          "base_uri": "https://localhost:8080/",
          "height": 0
        },
        "id": "SzqY2Ld1qrkk",
        "outputId": "cd47d244-c61a-428d-9187-229981aabfc5"
      },
      "source": [
        "# previewing the tail\n",
        "df_test.tail()"
      ],
      "execution_count": 247,
      "outputs": [
        {
          "output_type": "execute_result",
          "data": {
            "text/html": [
              "<div>\n",
              "<style scoped>\n",
              "    .dataframe tbody tr th:only-of-type {\n",
              "        vertical-align: middle;\n",
              "    }\n",
              "\n",
              "    .dataframe tbody tr th {\n",
              "        vertical-align: top;\n",
              "    }\n",
              "\n",
              "    .dataframe thead th {\n",
              "        text-align: right;\n",
              "    }\n",
              "</style>\n",
              "<table border=\"1\" class=\"dataframe\">\n",
              "  <thead>\n",
              "    <tr style=\"text-align: right;\">\n",
              "      <th></th>\n",
              "      <th>PassengerId</th>\n",
              "      <th>Pclass</th>\n",
              "      <th>Name</th>\n",
              "      <th>Sex</th>\n",
              "      <th>Age</th>\n",
              "      <th>SibSp</th>\n",
              "      <th>Parch</th>\n",
              "      <th>Ticket</th>\n",
              "      <th>Fare</th>\n",
              "      <th>Cabin</th>\n",
              "      <th>Embarked</th>\n",
              "    </tr>\n",
              "  </thead>\n",
              "  <tbody>\n",
              "    <tr>\n",
              "      <th>413</th>\n",
              "      <td>1305</td>\n",
              "      <td>3</td>\n",
              "      <td>Spector, Mr. Woolf</td>\n",
              "      <td>male</td>\n",
              "      <td>NaN</td>\n",
              "      <td>0</td>\n",
              "      <td>0</td>\n",
              "      <td>A.5. 3236</td>\n",
              "      <td>8.0500</td>\n",
              "      <td>NaN</td>\n",
              "      <td>S</td>\n",
              "    </tr>\n",
              "    <tr>\n",
              "      <th>414</th>\n",
              "      <td>1306</td>\n",
              "      <td>1</td>\n",
              "      <td>Oliva y Ocana, Dona. Fermina</td>\n",
              "      <td>female</td>\n",
              "      <td>39.0</td>\n",
              "      <td>0</td>\n",
              "      <td>0</td>\n",
              "      <td>PC 17758</td>\n",
              "      <td>108.9000</td>\n",
              "      <td>C105</td>\n",
              "      <td>C</td>\n",
              "    </tr>\n",
              "    <tr>\n",
              "      <th>415</th>\n",
              "      <td>1307</td>\n",
              "      <td>3</td>\n",
              "      <td>Saether, Mr. Simon Sivertsen</td>\n",
              "      <td>male</td>\n",
              "      <td>38.5</td>\n",
              "      <td>0</td>\n",
              "      <td>0</td>\n",
              "      <td>SOTON/O.Q. 3101262</td>\n",
              "      <td>7.2500</td>\n",
              "      <td>NaN</td>\n",
              "      <td>S</td>\n",
              "    </tr>\n",
              "    <tr>\n",
              "      <th>416</th>\n",
              "      <td>1308</td>\n",
              "      <td>3</td>\n",
              "      <td>Ware, Mr. Frederick</td>\n",
              "      <td>male</td>\n",
              "      <td>NaN</td>\n",
              "      <td>0</td>\n",
              "      <td>0</td>\n",
              "      <td>359309</td>\n",
              "      <td>8.0500</td>\n",
              "      <td>NaN</td>\n",
              "      <td>S</td>\n",
              "    </tr>\n",
              "    <tr>\n",
              "      <th>417</th>\n",
              "      <td>1309</td>\n",
              "      <td>3</td>\n",
              "      <td>Peter, Master. Michael J</td>\n",
              "      <td>male</td>\n",
              "      <td>NaN</td>\n",
              "      <td>1</td>\n",
              "      <td>1</td>\n",
              "      <td>2668</td>\n",
              "      <td>22.3583</td>\n",
              "      <td>NaN</td>\n",
              "      <td>C</td>\n",
              "    </tr>\n",
              "  </tbody>\n",
              "</table>\n",
              "</div>"
            ],
            "text/plain": [
              "     PassengerId  Pclass                          Name  ...      Fare  Cabin  Embarked\n",
              "413         1305       3            Spector, Mr. Woolf  ...    8.0500    NaN         S\n",
              "414         1306       1  Oliva y Ocana, Dona. Fermina  ...  108.9000   C105         C\n",
              "415         1307       3  Saether, Mr. Simon Sivertsen  ...    7.2500    NaN         S\n",
              "416         1308       3           Ware, Mr. Frederick  ...    8.0500    NaN         S\n",
              "417         1309       3      Peter, Master. Michael J  ...   22.3583    NaN         C\n",
              "\n",
              "[5 rows x 11 columns]"
            ]
          },
          "metadata": {},
          "execution_count": 247
        }
      ]
    },
    {
      "cell_type": "markdown",
      "metadata": {
        "id": "-IA50Z7Gq2Ec"
      },
      "source": [
        "The train dataset has the dependent variable we want to predict (survived) plus other independent variables such as Name, sex and age.\n",
        "\n",
        "We will use the train data to train our model. The test dataset has the same independent variables as the train data but does not contain the dependent variable (survived). \n",
        "\n",
        "The test data helps us evaluate how well our model performs on unseen data."
      ]
    },
    {
      "cell_type": "code",
      "metadata": {
        "colab": {
          "base_uri": "https://localhost:8080/"
        },
        "id": "kNrD7cjKqzMl",
        "outputId": "e3facfdd-d61f-40de-826f-ec8067183a41"
      },
      "source": [
        "# Determining the number of records in our dataset\n",
        "df_train.shape"
      ],
      "execution_count": 248,
      "outputs": [
        {
          "output_type": "execute_result",
          "data": {
            "text/plain": [
              "(891, 12)"
            ]
          },
          "metadata": {},
          "execution_count": 248
        }
      ]
    },
    {
      "cell_type": "code",
      "metadata": {
        "colab": {
          "base_uri": "https://localhost:8080/"
        },
        "id": "NUHH8WMKs9ul",
        "outputId": "66c84f5d-8559-4f36-9cce-4df9101f87e6"
      },
      "source": [
        "# obtaining more information about our data\n",
        "df_train.info()"
      ],
      "execution_count": 249,
      "outputs": [
        {
          "output_type": "stream",
          "name": "stdout",
          "text": [
            "<class 'pandas.core.frame.DataFrame'>\n",
            "RangeIndex: 891 entries, 0 to 890\n",
            "Data columns (total 12 columns):\n",
            " #   Column       Non-Null Count  Dtype  \n",
            "---  ------       --------------  -----  \n",
            " 0   PassengerId  891 non-null    int64  \n",
            " 1   Survived     891 non-null    int64  \n",
            " 2   Pclass       891 non-null    int64  \n",
            " 3   Name         891 non-null    object \n",
            " 4   Sex          891 non-null    object \n",
            " 5   Age          714 non-null    float64\n",
            " 6   SibSp        891 non-null    int64  \n",
            " 7   Parch        891 non-null    int64  \n",
            " 8   Ticket       891 non-null    object \n",
            " 9   Fare         891 non-null    float64\n",
            " 10  Cabin        204 non-null    object \n",
            " 11  Embarked     889 non-null    object \n",
            "dtypes: float64(2), int64(5), object(5)\n",
            "memory usage: 83.7+ KB\n"
          ]
        }
      ]
    },
    {
      "cell_type": "markdown",
      "metadata": {
        "id": "P3lerTmGtXWt"
      },
      "source": [
        "### Data Description"
      ]
    },
    {
      "cell_type": "markdown",
      "metadata": {
        "id": "tv96cbc0v6zH"
      },
      "source": [
        "#### describing the features\n",
        "## Categorical features\n",
        "* Nominal: Cabin,Embarked - more than one category, but not ordered\n",
        "* Dichotonomous: sex - has only two possible outcomes\n",
        "* Ordinal:  Pclass - more than one category, but has an intristic order\n",
        "\n",
        "## Numerical features\n",
        "* Discrete: Passenger_ID,SibSp,Parch,Survived\n",
        "* Continuous: Age, Fare"
      ]
    },
    {
      "cell_type": "markdown",
      "metadata": {
        "id": "BZ9SOgA0wRM1"
      },
      "source": [
        "## Cleaning the Dataset"
      ]
    },
    {
      "cell_type": "code",
      "metadata": {
        "colab": {
          "base_uri": "https://localhost:8080/"
        },
        "id": "bp52MR5jtIMJ",
        "outputId": "93c19807-f7c5-4cc2-8378-906fa5f8b7fd"
      },
      "source": [
        "# Identifying the null values\n",
        "df_train.isnull().sum().sum()"
      ],
      "execution_count": 250,
      "outputs": [
        {
          "output_type": "execute_result",
          "data": {
            "text/plain": [
              "866"
            ]
          },
          "metadata": {},
          "execution_count": 250
        }
      ]
    },
    {
      "cell_type": "code",
      "metadata": {
        "colab": {
          "base_uri": "https://localhost:8080/"
        },
        "id": "4nbm3_nju81G",
        "outputId": "d1a650f2-3e66-45c3-cf7b-9d7c4560db47"
      },
      "source": [
        "# checking for null values per column\n",
        "df_train.isnull().sum()"
      ],
      "execution_count": 251,
      "outputs": [
        {
          "output_type": "execute_result",
          "data": {
            "text/plain": [
              "PassengerId      0\n",
              "Survived         0\n",
              "Pclass           0\n",
              "Name             0\n",
              "Sex              0\n",
              "Age            177\n",
              "SibSp            0\n",
              "Parch            0\n",
              "Ticket           0\n",
              "Fare             0\n",
              "Cabin          687\n",
              "Embarked         2\n",
              "dtype: int64"
            ]
          },
          "metadata": {},
          "execution_count": 251
        }
      ]
    },
    {
      "cell_type": "code",
      "metadata": {
        "colab": {
          "base_uri": "https://localhost:8080/"
        },
        "id": "5sBKWX1sxt8e",
        "outputId": "46dd6bf8-28fd-4bbb-dcda-670dcf3a02fc"
      },
      "source": [
        "# checking for nunique values in Passenger_Id and Ticket\n",
        "print(df_train.PassengerId.nunique())\n",
        "print(df_train.Ticket.nunique())"
      ],
      "execution_count": 252,
      "outputs": [
        {
          "output_type": "stream",
          "name": "stdout",
          "text": [
            "891\n",
            "681\n"
          ]
        }
      ]
    },
    {
      "cell_type": "markdown",
      "metadata": {
        "id": "POlfYukiygf3"
      },
      "source": [
        "The ['PassengerId','Ticket'] columns will not be useful for analysis since they have very high dimensionality (too many unique values) thus, we drop them."
      ]
    },
    {
      "cell_type": "code",
      "metadata": {
        "colab": {
          "base_uri": "https://localhost:8080/",
          "height": 0
        },
        "id": "iqirk6NByehF",
        "outputId": "d96629a9-176c-4245-b941-cd1f739a8649"
      },
      "source": [
        "# creating a copy and dropping unnecesary colums\n",
        "df_train1 = df_train.drop(['PassengerId','Ticket'], axis = 1)\n",
        "df_train1.head()"
      ],
      "execution_count": 253,
      "outputs": [
        {
          "output_type": "execute_result",
          "data": {
            "text/html": [
              "<div>\n",
              "<style scoped>\n",
              "    .dataframe tbody tr th:only-of-type {\n",
              "        vertical-align: middle;\n",
              "    }\n",
              "\n",
              "    .dataframe tbody tr th {\n",
              "        vertical-align: top;\n",
              "    }\n",
              "\n",
              "    .dataframe thead th {\n",
              "        text-align: right;\n",
              "    }\n",
              "</style>\n",
              "<table border=\"1\" class=\"dataframe\">\n",
              "  <thead>\n",
              "    <tr style=\"text-align: right;\">\n",
              "      <th></th>\n",
              "      <th>Survived</th>\n",
              "      <th>Pclass</th>\n",
              "      <th>Name</th>\n",
              "      <th>Sex</th>\n",
              "      <th>Age</th>\n",
              "      <th>SibSp</th>\n",
              "      <th>Parch</th>\n",
              "      <th>Fare</th>\n",
              "      <th>Cabin</th>\n",
              "      <th>Embarked</th>\n",
              "    </tr>\n",
              "  </thead>\n",
              "  <tbody>\n",
              "    <tr>\n",
              "      <th>0</th>\n",
              "      <td>0</td>\n",
              "      <td>3</td>\n",
              "      <td>Braund, Mr. Owen Harris</td>\n",
              "      <td>male</td>\n",
              "      <td>22.0</td>\n",
              "      <td>1</td>\n",
              "      <td>0</td>\n",
              "      <td>7.2500</td>\n",
              "      <td>NaN</td>\n",
              "      <td>S</td>\n",
              "    </tr>\n",
              "    <tr>\n",
              "      <th>1</th>\n",
              "      <td>1</td>\n",
              "      <td>1</td>\n",
              "      <td>Cumings, Mrs. John Bradley (Florence Briggs Th...</td>\n",
              "      <td>female</td>\n",
              "      <td>38.0</td>\n",
              "      <td>1</td>\n",
              "      <td>0</td>\n",
              "      <td>71.2833</td>\n",
              "      <td>C85</td>\n",
              "      <td>C</td>\n",
              "    </tr>\n",
              "    <tr>\n",
              "      <th>2</th>\n",
              "      <td>1</td>\n",
              "      <td>3</td>\n",
              "      <td>Heikkinen, Miss. Laina</td>\n",
              "      <td>female</td>\n",
              "      <td>26.0</td>\n",
              "      <td>0</td>\n",
              "      <td>0</td>\n",
              "      <td>7.9250</td>\n",
              "      <td>NaN</td>\n",
              "      <td>S</td>\n",
              "    </tr>\n",
              "    <tr>\n",
              "      <th>3</th>\n",
              "      <td>1</td>\n",
              "      <td>1</td>\n",
              "      <td>Futrelle, Mrs. Jacques Heath (Lily May Peel)</td>\n",
              "      <td>female</td>\n",
              "      <td>35.0</td>\n",
              "      <td>1</td>\n",
              "      <td>0</td>\n",
              "      <td>53.1000</td>\n",
              "      <td>C123</td>\n",
              "      <td>S</td>\n",
              "    </tr>\n",
              "    <tr>\n",
              "      <th>4</th>\n",
              "      <td>0</td>\n",
              "      <td>3</td>\n",
              "      <td>Allen, Mr. William Henry</td>\n",
              "      <td>male</td>\n",
              "      <td>35.0</td>\n",
              "      <td>0</td>\n",
              "      <td>0</td>\n",
              "      <td>8.0500</td>\n",
              "      <td>NaN</td>\n",
              "      <td>S</td>\n",
              "    </tr>\n",
              "  </tbody>\n",
              "</table>\n",
              "</div>"
            ],
            "text/plain": [
              "   Survived  Pclass  ... Cabin Embarked\n",
              "0         0       3  ...   NaN        S\n",
              "1         1       1  ...   C85        C\n",
              "2         1       3  ...   NaN        S\n",
              "3         1       1  ...  C123        S\n",
              "4         0       3  ...   NaN        S\n",
              "\n",
              "[5 rows x 10 columns]"
            ]
          },
          "metadata": {},
          "execution_count": 253
        }
      ]
    },
    {
      "cell_type": "markdown",
      "metadata": {
        "id": "YJv_YuJbz0zK"
      },
      "source": [
        "### Age Column: Replacing the missing values with the mean."
      ]
    },
    {
      "cell_type": "code",
      "metadata": {
        "id": "UlnKolSbzrw1"
      },
      "source": [
        "# Dealing with the missing data.\n",
        "# the age column has 177 missing values.\n",
        "# replacing the missing values with the mean.\n",
        "# creating a copy\n",
        "\n",
        "df_train2 = df_train1\n",
        "df_train2['Age']= df_train2['Age'].fillna(df_train2['Age'].mean(),axis=0)"
      ],
      "execution_count": 254,
      "outputs": []
    },
    {
      "cell_type": "code",
      "metadata": {
        "colab": {
          "base_uri": "https://localhost:8080/",
          "height": 0
        },
        "id": "AwwPIcYnLT8E",
        "outputId": "fe7d9052-e013-4b9b-99f7-ed02ae658de7"
      },
      "source": [
        "# visualizing age distribution\n",
        "size, scale = 1000,10\n",
        "age = df_train2['Age']\n",
        "\n",
        "age.hist(grid=True, bins=20, rwidth=0.9,color='orange')\n",
        "plt.title('Patients Age Distribution')\n",
        "plt.xlabel('Age')\n",
        "plt.ylabel('Counts')\n",
        "plt.grid(axis='y',alpha=0.75)"
      ],
      "execution_count": 255,
      "outputs": [
        {
          "output_type": "display_data",
          "data": {
            "image/png": "[encoded data removed]",
            "text/plain": [
              "<Figure size 432x288 with 1 Axes>"
            ]
          },
          "metadata": {
            "needs_background": "light"
          }
        }
      ]
    },
    {
      "cell_type": "markdown",
      "metadata": {
        "id": "4lf97YlLNDiX"
      },
      "source": [
        "Using the mean to replace missing values in the Age column results in a normally distributed LEPTOKURTIC curve."
      ]
    },
    {
      "cell_type": "markdown",
      "metadata": {
        "id": "8m5TghDONa8V"
      },
      "source": [
        "### Cabin Column"
      ]
    },
    {
      "cell_type": "code",
      "metadata": {
        "colab": {
          "base_uri": "https://localhost:8080/"
        },
        "id": "9d444cDMMztN",
        "outputId": "d60939e3-2e4a-4cae-d95f-592fef4b8ee7"
      },
      "source": [
        "# The cabin column has 687 missing values.\n",
        "# we will use the fare column to impute the missing values\n",
        "# creating a copy\n",
        "\n",
        "df_train3 = df_train2\n",
        "df_train3.Cabin.isnull().sum()\n",
        "df_train3.Cabin.nunique()"
      ],
      "execution_count": 256,
      "outputs": [
        {
          "output_type": "execute_result",
          "data": {
            "text/plain": [
              "147"
            ]
          },
          "metadata": {},
          "execution_count": 256
        }
      ]
    },
    {
      "cell_type": "code",
      "metadata": {
        "colab": {
          "base_uri": "https://localhost:8080/"
        },
        "id": "ojqVLASgOWIV",
        "outputId": "ed7ee68b-ae37-4b60-ca47-43064fd83856"
      },
      "source": [
        "df_train3.groupby('Cabin')['Fare'].mean().sort_values()"
      ],
      "execution_count": 257,
      "outputs": [
        {
          "output_type": "execute_result",
          "data": {
            "text/plain": [
              "Cabin\n",
              "B102                 0.0000\n",
              "B94                  0.0000\n",
              "A36                  0.0000\n",
              "F G63                7.6500\n",
              "F G73                7.6500\n",
              "                     ...   \n",
              "B58 B60            247.5208\n",
              "B51 B53 B55        258.6646\n",
              "B57 B59 B63 B66    262.3750\n",
              "C23 C25 C27        263.0000\n",
              "B101               512.3292\n",
              "Name: Fare, Length: 147, dtype: float64"
            ]
          },
          "metadata": {},
          "execution_count": 257
        }
      ]
    },
    {
      "cell_type": "code",
      "metadata": {
        "id": "bqxTvEfXOp6p"
      },
      "source": [
        "# There are too many unique values but we can group the cabins using the first letter of the cabin\n",
        "# creating a copy\n",
        "df_train4 = df_train3\n",
        "\n",
        "# Assigning the null values to z\n",
        "df_train4.Cabin.fillna('z',inplace=True)\n",
        "\n",
        "df_train4.Cabin =[i[0]for i in df_train4.Cabin]"
      ],
      "execution_count": 258,
      "outputs": []
    },
    {
      "cell_type": "code",
      "metadata": {
        "colab": {
          "base_uri": "https://localhost:8080/"
        },
        "id": "hiD9D7kjP-oe",
        "outputId": "fb95aaae-0985-44dc-d431-d576fc445d20"
      },
      "source": [
        "# using the first letter gives the major cabin partitions\n",
        "# we then obtain the average fares based on each partition\n",
        "# partition G has the lowest mean value meaning that was the cheapest Cabin Partition and Partition B has the highest mean value meaning that was the most expensive Cabin partition.\n",
        "\n",
        "df_train4.groupby('Cabin')['Fare'].mean().sort_values()"
      ],
      "execution_count": 259,
      "outputs": [
        {
          "output_type": "execute_result",
          "data": {
            "text/plain": [
              "Cabin\n",
              "G     13.581250\n",
              "F     18.696792\n",
              "z     19.157325\n",
              "T     35.500000\n",
              "A     39.623887\n",
              "E     46.026694\n",
              "D     57.244576\n",
              "C    100.151341\n",
              "B    113.505764\n",
              "Name: Fare, dtype: float64"
            ]
          },
          "metadata": {},
          "execution_count": 259
        }
      ]
    },
    {
      "cell_type": "code",
      "metadata": {
        "id": "lLaSSAy1Rnwh"
      },
      "source": [
        "# create a function to impute the cabin values using the fare column(Pounds)\n",
        "\n",
        "def cabin_fxn(i):\n",
        "\n",
        "  # initializing as 0\n",
        "  a = 0\n",
        "  if i<14:\n",
        "    a = 'G'\n",
        "  elif i >= 14 and i < 19:\n",
        "    a ='F'\n",
        "  elif i >= 19 and i < 20:\n",
        "    a = 'N'\n",
        "  elif i >= 20 and i < 35:\n",
        "    a = 'T'\n",
        "  elif i >= 35 and i < 40:\n",
        "    a = 'A'\n",
        "  elif i >= 40 and i < 46:\n",
        "    a = 'E'\n",
        "  elif  i >= 47 and i < 57:\n",
        "    a = 'D'\n",
        "  elif i >= 58 and i < 100:\n",
        "    a = 'C'\n",
        "  else:\n",
        "    a = 'B'\n",
        "  return a"
      ],
      "execution_count": 260,
      "outputs": []
    },
    {
      "cell_type": "code",
      "metadata": {
        "colab": {
          "base_uri": "https://localhost:8080/"
        },
        "id": "BDZxTnD_UGuP",
        "outputId": "150e5e58-fa76-48a0-bd45-7f921060e828"
      },
      "source": [
        "df_train4.Cabin.isnull().sum()"
      ],
      "execution_count": 261,
      "outputs": [
        {
          "output_type": "execute_result",
          "data": {
            "text/plain": [
              "0"
            ]
          },
          "metadata": {},
          "execution_count": 261
        }
      ]
    },
    {
      "cell_type": "markdown",
      "metadata": {
        "id": "cizR_3auUXVa"
      },
      "source": [
        "### Embarked Column"
      ]
    },
    {
      "cell_type": "code",
      "metadata": {
        "colab": {
          "base_uri": "https://localhost:8080/",
          "height": 0
        },
        "id": "hRDLjZmBUVR-",
        "outputId": "882669f1-f0df-4b9f-8c81-d2b236fb6f40"
      },
      "source": [
        "# The embarked column haas two missing values\n",
        "# viewing the 2 missing values.\n",
        "# we then look at other independent variables that may help us determine the correct value for the Embarked column\n",
        "\n",
        "df_train4[df_train4.Embarked.isnull()]"
      ],
      "execution_count": 262,
      "outputs": [
        {
          "output_type": "execute_result",
          "data": {
            "text/html": [
              "<div>\n",
              "<style scoped>\n",
              "    .dataframe tbody tr th:only-of-type {\n",
              "        vertical-align: middle;\n",
              "    }\n",
              "\n",
              "    .dataframe tbody tr th {\n",
              "        vertical-align: top;\n",
              "    }\n",
              "\n",
              "    .dataframe thead th {\n",
              "        text-align: right;\n",
              "    }\n",
              "</style>\n",
              "<table border=\"1\" class=\"dataframe\">\n",
              "  <thead>\n",
              "    <tr style=\"text-align: right;\">\n",
              "      <th></th>\n",
              "      <th>Survived</th>\n",
              "      <th>Pclass</th>\n",
              "      <th>Name</th>\n",
              "      <th>Sex</th>\n",
              "      <th>Age</th>\n",
              "      <th>SibSp</th>\n",
              "      <th>Parch</th>\n",
              "      <th>Fare</th>\n",
              "      <th>Cabin</th>\n",
              "      <th>Embarked</th>\n",
              "    </tr>\n",
              "  </thead>\n",
              "  <tbody>\n",
              "    <tr>\n",
              "      <th>61</th>\n",
              "      <td>1</td>\n",
              "      <td>1</td>\n",
              "      <td>Icard, Miss. Amelie</td>\n",
              "      <td>female</td>\n",
              "      <td>38.0</td>\n",
              "      <td>0</td>\n",
              "      <td>0</td>\n",
              "      <td>80.0</td>\n",
              "      <td>B</td>\n",
              "      <td>NaN</td>\n",
              "    </tr>\n",
              "    <tr>\n",
              "      <th>829</th>\n",
              "      <td>1</td>\n",
              "      <td>1</td>\n",
              "      <td>Stone, Mrs. George Nelson (Martha Evelyn)</td>\n",
              "      <td>female</td>\n",
              "      <td>62.0</td>\n",
              "      <td>0</td>\n",
              "      <td>0</td>\n",
              "      <td>80.0</td>\n",
              "      <td>B</td>\n",
              "      <td>NaN</td>\n",
              "    </tr>\n",
              "  </tbody>\n",
              "</table>\n",
              "</div>"
            ],
            "text/plain": [
              "     Survived  Pclass  ... Cabin Embarked\n",
              "61          1       1  ...     B      NaN\n",
              "829         1       1  ...     B      NaN\n",
              "\n",
              "[2 rows x 10 columns]"
            ]
          },
          "metadata": {},
          "execution_count": 262
        }
      ]
    },
    {
      "cell_type": "markdown",
      "metadata": {
        "id": "_7nfZaxOV5qh"
      },
      "source": [
        "Similarities between the two rows with null values on the embarked column\n",
        "* survived column\n",
        "* P class 1\n",
        "* Female"
      ]
    },
    {
      "cell_type": "code",
      "metadata": {
        "colab": {
          "base_uri": "https://localhost:8080/",
          "height": 0
        },
        "id": "hsedQaEAVMw2",
        "outputId": "d204c84a-392a-41fa-c211-2fa7dd63ba82"
      },
      "source": [
        "sns.set_style('darkgrid')\n",
        "fig, ax = plt.subplots(figsize=(16,12),ncols=2)\n",
        "ax1 = sns.boxplot(x='Embarked',y='Fare',hue='Pclass',data=df_train4,ax=ax[0]);\n",
        "ax2 = sns.boxplot(x='Embarked',y='Fare',hue='Pclass',data=df_test,ax = ax[1]);\n",
        "ax1.set_title('Training Set', fontsize = 18)\n",
        "ax2.set_title('Test Set', fontsize = 18)"
      ],
      "execution_count": 263,
      "outputs": [
        {
          "output_type": "execute_result",
          "data": {
            "text/plain": [
              "Text(0.5, 1.0, 'Test Set')"
            ]
          },
          "metadata": {},
          "execution_count": 263
        },
        {
          "output_type": "display_data",
          "data": {
            "image/png": "[encoded data removed]",
            "text/plain": [
              "<Figure size 1152x864 with 2 Axes>"
            ]
          },
          "metadata": {}
        }
      ]
    },
    {
      "cell_type": "markdown",
      "metadata": {
        "id": "2r8sCgBeYICc"
      },
      "source": [
        "On both the train and test dataset, most of the passengers who paid an average fare of 80$ had type 'C' on the embarked column thus we replace the null values with 'C'"
      ]
    },
    {
      "cell_type": "code",
      "metadata": {
        "id": "9IA7pdXAYDBV"
      },
      "source": [
        "# Replacing the null values in the Embarked column with'C'.\n",
        "# Creating a copy\n",
        "df_train5 = df_train4\n",
        "df_train5.Embarked.fillna('C', inplace=True)"
      ],
      "execution_count": 264,
      "outputs": []
    },
    {
      "cell_type": "code",
      "metadata": {
        "colab": {
          "base_uri": "https://localhost:8080/"
        },
        "id": "Xw3ci8t7Zb0L",
        "outputId": "e95bcfcb-01eb-4757-c543-18ea7be0663c"
      },
      "source": [
        "df_train5.nunique()"
      ],
      "execution_count": 265,
      "outputs": [
        {
          "output_type": "execute_result",
          "data": {
            "text/plain": [
              "Survived      2\n",
              "Pclass        3\n",
              "Name        891\n",
              "Sex           2\n",
              "Age          89\n",
              "SibSp         7\n",
              "Parch         7\n",
              "Fare        248\n",
              "Cabin         9\n",
              "Embarked      3\n",
              "dtype: int64"
            ]
          },
          "metadata": {},
          "execution_count": 265
        }
      ]
    },
    {
      "cell_type": "markdown",
      "metadata": {
        "id": "7bOYzKMHaEvF"
      },
      "source": [
        "# Exploratory Data Analysis"
      ]
    },
    {
      "cell_type": "markdown",
      "metadata": {
        "id": "AWHefJ11aZG6"
      },
      "source": [
        "## Univariate Analysis"
      ]
    },
    {
      "cell_type": "markdown",
      "metadata": {
        "id": "ZvFP91N0aoBU"
      },
      "source": [
        "### Numerical Columns\n",
        "\n"
      ]
    },
    {
      "cell_type": "markdown",
      "metadata": {
        "id": "3ndworKuhX81"
      },
      "source": [
        "#### Age column"
      ]
    },
    {
      "cell_type": "code",
      "metadata": {
        "colab": {
          "base_uri": "https://localhost:8080/",
          "height": 0
        },
        "id": "zgTBgqgVZ9hY",
        "outputId": "d64fec28-eedf-4dce-8a10-ed69bfd3a29b"
      },
      "source": [
        "# visualizing age distribution\n",
        "size, scale = 1000, 10\n",
        "age = df_train5['Age']\n",
        "\n",
        "age.hist(grid=True, bins=20, rwidth=0.9, color='red')\n",
        "plt.title('Patients Age Distribution')\n",
        "plt.xlabel('Age')\n",
        "plt.ylabel('Counts')\n",
        "plt.grid(axis='y', alpha=0.75)"
      ],
      "execution_count": 266,
      "outputs": [
        {
          "output_type": "display_data",
          "data": {
            "image/png": "[encoded data removed]",
            "text/plain": [
              "<Figure size 432x288 with 1 Axes>"
            ]
          },
          "metadata": {}
        }
      ]
    },
    {
      "cell_type": "markdown",
      "metadata": {
        "id": "l1YSH7codH6G"
      },
      "source": [
        "* The didtribution is leptokurtic.\n",
        "* The Kurtosis is greater than normal which is the effect of replacing the missing values with the mean age."
      ]
    },
    {
      "cell_type": "code",
      "metadata": {
        "colab": {
          "base_uri": "https://localhost:8080/",
          "height": 0
        },
        "id": "4oVWA5L4dHGF",
        "outputId": "1fdeaed5-6e4e-4a17-ff87-a8147acff37d"
      },
      "source": [
        "# Normality test\n",
        "# Importing libraries to plot our Q-Q plot\n",
        "from statsmodels.graphics.gofplots import qqplot\n",
        "from matplotlib import pyplot\n",
        "\n",
        "# generate univariate observations\n",
        "data = df_train5['Age']\n",
        "\n",
        "# q-q plot\n",
        "qqplot(data, line='s')\n",
        "pyplot.show()"
      ],
      "execution_count": 267,
      "outputs": [
        {
          "output_type": "display_data",
          "data": {
            "image/png": "[encoded data removed]",
            "text/plain": [
              "<Figure size 432x288 with 1 Axes>"
            ]
          },
          "metadata": {}
        }
      ]
    },
    {
      "cell_type": "markdown",
      "metadata": {
        "id": "LUaG39NPee0e"
      },
      "source": [
        "The age follows a normal distribubtion"
      ]
    },
    {
      "cell_type": "code",
      "metadata": {
        "colab": {
          "base_uri": "https://localhost:8080/",
          "height": 0
        },
        "id": "88VGAz8JekTt",
        "outputId": "b7a80549-f44d-4d91-df2d-87e264ff9e59"
      },
      "source": [
        "# checking for outliers using a boxplot\n",
        "df_train5.boxplot(column=['Age'])\n",
        "plt.title('Boxplot for Age', fontsize=16, color='white')"
      ],
      "execution_count": 268,
      "outputs": [
        {
          "output_type": "execute_result",
          "data": {
            "text/plain": [
              "Text(0.5, 1.0, 'Boxplot for Age')"
            ]
          },
          "metadata": {},
          "execution_count": 268
        },
        {
          "output_type": "display_data",
          "data": {
            "image/png": "[encoded data removed]",
            "text/plain": [
              "<Figure size 432x288 with 1 Axes>"
            ]
          },
          "metadata": {}
        }
      ]
    },
    {
      "cell_type": "markdown",
      "metadata": {
        "id": "oZhiPjHrbDAL"
      },
      "source": [
        "#### Fare Column"
      ]
    },
    {
      "cell_type": "code",
      "metadata": {
        "colab": {
          "base_uri": "https://localhost:8080/"
        },
        "id": "8eMNkQKzbHba",
        "outputId": "eae148a1-f9c6-474d-b9fb-8003c7c5fc8c"
      },
      "source": [
        "df_train5.Cabin.value_counts()"
      ],
      "execution_count": 269,
      "outputs": [
        {
          "output_type": "execute_result",
          "data": {
            "text/plain": [
              "z    687\n",
              "C     59\n",
              "B     47\n",
              "D     33\n",
              "E     32\n",
              "A     15\n",
              "F     13\n",
              "G      4\n",
              "T      1\n",
              "Name: Cabin, dtype: int64"
            ]
          },
          "metadata": {},
          "execution_count": 269
        }
      ]
    },
    {
      "cell_type": "code",
      "metadata": {
        "colab": {
          "base_uri": "https://localhost:8080/",
          "height": 0
        },
        "id": "DuYbqtAtfoi9",
        "outputId": "e6b76fd2-9f16-4c30-8dd7-a4040ce5bb89"
      },
      "source": [
        "# visualizing fare distribution\n",
        "size, scale = 1000, 10\n",
        "age = df_train5['Fare']\n",
        "\n",
        "age.hist(grid=True, bins=20, rwidth=0.9, color= 'green')\n",
        "plt.title('Fare Paid')\n",
        "plt.xlabel('Fare')\n",
        "plt.ylabel('Counts')\n",
        "plt.grid(axis='y',alpha=0.75)"
      ],
      "execution_count": 270,
      "outputs": [
        {
          "output_type": "display_data",
          "data": {
            "image/png": "[encoded data removed]",
            "text/plain": [
              "<Figure size 432x288 with 1 Axes>"
            ]
          },
          "metadata": {}
        }
      ]
    },
    {
      "cell_type": "markdown",
      "metadata": {
        "id": "zbXEEdlKgqh-"
      },
      "source": [
        "* Distribution of the fares paid is right skewed. The highest count is Category 'N' which attributes for 77%.\n",
        "* This means that 77% of the passengers paid a mean of 19 'units of currency'(pound) for the trip."
      ]
    },
    {
      "cell_type": "markdown",
      "metadata": {
        "id": "DviLcmaUibvd"
      },
      "source": [
        "### Categorical Columns"
      ]
    },
    {
      "cell_type": "markdown",
      "metadata": {
        "id": "Z93FOAQjiiPK"
      },
      "source": [
        "#### Cabin Column"
      ]
    },
    {
      "cell_type": "code",
      "metadata": {
        "colab": {
          "base_uri": "https://localhost:8080/",
          "height": 0
        },
        "id": "MS2ISHWQgnzD",
        "outputId": "70d7acf4-b932-4b82-80a7-1074c7293a1d"
      },
      "source": [
        "# visualizing Cabin distribution\n",
        "size, scale = 1000, 10\n",
        "age = df_train5['Cabin']\n",
        "\n",
        "age.hist(grid=True, bins=20, rwidth=0.9,color='purple')\n",
        "plt.title('Cabin Column Distribution')\n",
        "plt.xlabel('Cabin')\n",
        "plt.ylabel('Counts')\n",
        "plt.grid(axis='y', alpha=0.75)"
      ],
      "execution_count": 271,
      "outputs": [
        {
          "output_type": "display_data",
          "data": {
            "image/png": "[encoded data removed]",
            "text/plain": [
              "<Figure size 432x288 with 1 Axes>"
            ]
          },
          "metadata": {}
        }
      ]
    },
    {
      "cell_type": "markdown",
      "metadata": {
        "id": "K8GyvBGlj3o8"
      },
      "source": [
        "#### Other Columns"
      ]
    },
    {
      "cell_type": "code",
      "metadata": {
        "colab": {
          "base_uri": "https://localhost:8080/",
          "height": 0
        },
        "id": "LGYzkCq2jvdH",
        "outputId": "be227d5d-c62b-4df5-b66b-5ee7c9a35a25"
      },
      "source": [
        "# Countplots of categorical columns in the dataset\n",
        "# creating a list of the categorical columns in the dataset\n",
        "\n",
        "categorical_column_1 =  ['Cabin','Embarked','Sex','Pclass','SibSp','Parch', 'Survived']\n",
        "\n",
        "sns.set(style = 'darkgrid', context = 'notebook')\n",
        "\n",
        "fig, axes = plt.subplots(nrows=3, ncols=3,figsize=(20,25))\n",
        "plt.suptitle('Countplots of categorical columns', fontsize = 18, y = 1, color = 'blue')\n",
        "for ax, data, column in zip(axes.flatten(),df_train5,categorical_column_1):\n",
        "  sns.countplot(df_train5[column],ax=ax)"
      ],
      "execution_count": 272,
      "outputs": [
        {
          "output_type": "display_data",
          "data": {
            "image/png": "[encoded data removed]",
            "text/plain": [
              "<Figure size 1440x1800 with 9 Axes>"
            ]
          },
          "metadata": {}
        }
      ]
    },
    {
      "cell_type": "markdown",
      "metadata": {
        "id": "qMUbS3-DtV2R"
      },
      "source": [
        "* There were more males on the ship than females\n",
        "* Persons who died in the tragedy were more than those who survived\n",
        "* Most people on the ship did not have family members onboard\n",
        "* The third class had most people on the ship\n",
        "*Cabin Z had most occupants"
      ]
    },
    {
      "cell_type": "markdown",
      "metadata": {
        "id": "RVnQG5oEuIru"
      },
      "source": [
        "## Bi-variate Analysis"
      ]
    },
    {
      "cell_type": "markdown",
      "metadata": {
        "id": "VxOq3c2kuevo"
      },
      "source": [
        "### Gender Vs Survived"
      ]
    },
    {
      "cell_type": "code",
      "metadata": {
        "colab": {
          "base_uri": "https://localhost:8080/",
          "height": 0
        },
        "id": "OdIRJTWYr1QE",
        "outputId": "c572eaad-68f3-4e8f-bb7b-6239e08286d7"
      },
      "source": [
        "pal = {1:'green', 0:'red'}\n",
        "sns.set(style='darkgrid')\n",
        "plt.subplots(figsize = (10,5))\n",
        "ax = sns.countplot(x = 'Sex', hue='Survived', data=df_train5,linewidth=4,palette=pal)\n",
        "\n",
        "# fixing title, xlabel and ylabel\n",
        "plt.title('Passenger Gender Distribution - Survived vs Not-survived',fontsize = 25, pad=20)\n",
        "plt.xlabel('Sex',fontsize = 15);\n",
        "plt.ylabel('Passenger survived', fontsize = 15)\n",
        "\n",
        "# fixing legends\n",
        "leg = ax.get_legend()\n",
        "leg.set_title('Survived')\n",
        "legs = leg.texts\n",
        "legs[0].set_text('No')\n",
        "legs[1].set_text('Yes')\n",
        "plt.show()"
      ],
      "execution_count": 273,
      "outputs": [
        {
          "output_type": "display_data",
          "data": {
            "image/png": "[encoded data removed]",
            "text/plain": [
              "<Figure size 720x360 with 1 Axes>"
            ]
          },
          "metadata": {}
        }
      ]
    },
    {
      "cell_type": "markdown",
      "metadata": {
        "id": "dfd1QIUsyTsB"
      },
      "source": [
        "* More men died in the tragedy as compared to women. This is because a disproportionate number of men were left aboard because of a 'women and children first' protocol for loading lifeboats."
      ]
    },
    {
      "cell_type": "markdown",
      "metadata": {
        "id": "9UJ4XtqHEDGl"
      },
      "source": [
        "### Passenger Class Vs Survived"
      ]
    },
    {
      "cell_type": "code",
      "metadata": {
        "id": "Zm7QUt56vy4Q",
        "colab": {
          "base_uri": "https://localhost:8080/",
          "height": 0
        },
        "outputId": "b51ec52e-4f71-41b7-af51-7d2e10ab31f4"
      },
      "source": [
        "# kernel Density plot\n",
        "fig = plt.figure(figsize=(15,8))\n",
        "\n",
        "# used different codes to plot\n",
        "ax = sns.kdeplot(df_train5.Pclass[df_train5.Survived == 0],color='red',shade=True,label='not survived')\n",
        "ax = sns.kdeplot(df_train5.loc[(df_train5['Survived']== 1),'Pclass'], color='green',shade=True, label='survived')\n",
        "plt.title('Passenger Class Distribution - Survived vs Non-survived',fontsize=25,pad=40)\n",
        "plt.ylabel('Frequency of Passenger Survived', fontsize=15,labelpad=20)\n",
        "plt.xlabel('Passenger Class', fontsize=15,labelpad=20)\n",
        "\n",
        "# converting xticks into words for better understanding\n",
        "labels = ['Upper','Middle','Lower']\n",
        "plt.xticks(sorted(df_train5.Pclass.unique()),labels);"
      ],
      "execution_count": 274,
      "outputs": [
        {
          "output_type": "display_data",
          "data": {
            "image/png": "[encoded data removed]",
            "text/plain": [
              "<Figure size 1080x576 with 1 Axes>"
            ]
          },
          "metadata": {}
        }
      ]
    },
    {
      "cell_type": "markdown",
      "metadata": {
        "id": "zExzTym-Inux"
      },
      "source": [
        "* In the upper class, those who survived were about twice more than those who died.\n",
        "* In the middle class, survivors were slightly more than those who died.\n",
        "* In the lower class, those who died were about thrice as much as those who survived."
      ]
    },
    {
      "cell_type": "markdown",
      "metadata": {
        "id": "QmxdF7HrJdwO"
      },
      "source": [
        "### Age Vs Survived"
      ]
    },
    {
      "cell_type": "code",
      "metadata": {
        "colab": {
          "base_uri": "https://localhost:8080/",
          "height": 0
        },
        "id": "C5JXxYBGFfKW",
        "outputId": "1ca6af42-eb6a-4534-96b2-775b0e3d4f58"
      },
      "source": [
        "fig = plt.figure(figsize=(15,8))\n",
        "ax = sns.kdeplot(df_train5.loc[(df_train5['Survived']==0),'Age'],color='red',shade=True,label='not survived')\n",
        "ax = sns.kdeplot(df_train5.loc[(df_train5['Survived']==1),'Age'],color='green',shade=True,label='survived')\n",
        "plt.title('Age Distribution - Surviver Vs Non-survivors',fontsize=25,pad=40)\n",
        "plt.xlabel('Age',fontsize=15,labelpad=20)\n",
        "plt.ylabel('Frequency',fontsize=15,labelpad=20);"
      ],
      "execution_count": 275,
      "outputs": [
        {
          "output_type": "display_data",
          "data": {
            "image/png": "[encoded data removed]",
            "text/plain": [
              "<Figure size 1080x576 with 1 Axes>"
            ]
          },
          "metadata": {}
        }
      ]
    },
    {
      "cell_type": "markdown",
      "metadata": {
        "id": "xE3-rN0KLkul"
      },
      "source": [
        "* Age distribution and survived distribution curves are fairly similar."
      ]
    },
    {
      "cell_type": "markdown",
      "metadata": {
        "id": "2gvcFqCNLyy1"
      },
      "source": [
        "### Correlation"
      ]
    },
    {
      "cell_type": "code",
      "metadata": {
        "colab": {
          "base_uri": "https://localhost:8080/",
          "height": 0
        },
        "id": "yKCXX8o7Ld6M",
        "outputId": "6e7fc500-a0f7-422a-e21b-e25ef02ee348"
      },
      "source": [
        "# displaying the correlations between the variables\n",
        "corr = df_train5.corr()\n",
        "corr"
      ],
      "execution_count": 276,
      "outputs": [
        {
          "output_type": "execute_result",
          "data": {
            "text/html": [
              "<div>\n",
              "<style scoped>\n",
              "    .dataframe tbody tr th:only-of-type {\n",
              "        vertical-align: middle;\n",
              "    }\n",
              "\n",
              "    .dataframe tbody tr th {\n",
              "        vertical-align: top;\n",
              "    }\n",
              "\n",
              "    .dataframe thead th {\n",
              "        text-align: right;\n",
              "    }\n",
              "</style>\n",
              "<table border=\"1\" class=\"dataframe\">\n",
              "  <thead>\n",
              "    <tr style=\"text-align: right;\">\n",
              "      <th></th>\n",
              "      <th>Survived</th>\n",
              "      <th>Pclass</th>\n",
              "      <th>Age</th>\n",
              "      <th>SibSp</th>\n",
              "      <th>Parch</th>\n",
              "      <th>Fare</th>\n",
              "    </tr>\n",
              "  </thead>\n",
              "  <tbody>\n",
              "    <tr>\n",
              "      <th>Survived</th>\n",
              "      <td>1.000000</td>\n",
              "      <td>-0.338481</td>\n",
              "      <td>-0.069809</td>\n",
              "      <td>-0.035322</td>\n",
              "      <td>0.081629</td>\n",
              "      <td>0.257307</td>\n",
              "    </tr>\n",
              "    <tr>\n",
              "      <th>Pclass</th>\n",
              "      <td>-0.338481</td>\n",
              "      <td>1.000000</td>\n",
              "      <td>-0.331339</td>\n",
              "      <td>0.083081</td>\n",
              "      <td>0.018443</td>\n",
              "      <td>-0.549500</td>\n",
              "    </tr>\n",
              "    <tr>\n",
              "      <th>Age</th>\n",
              "      <td>-0.069809</td>\n",
              "      <td>-0.331339</td>\n",
              "      <td>1.000000</td>\n",
              "      <td>-0.232625</td>\n",
              "      <td>-0.179191</td>\n",
              "      <td>0.091566</td>\n",
              "    </tr>\n",
              "    <tr>\n",
              "      <th>SibSp</th>\n",
              "      <td>-0.035322</td>\n",
              "      <td>0.083081</td>\n",
              "      <td>-0.232625</td>\n",
              "      <td>1.000000</td>\n",
              "      <td>0.414838</td>\n",
              "      <td>0.159651</td>\n",
              "    </tr>\n",
              "    <tr>\n",
              "      <th>Parch</th>\n",
              "      <td>0.081629</td>\n",
              "      <td>0.018443</td>\n",
              "      <td>-0.179191</td>\n",
              "      <td>0.414838</td>\n",
              "      <td>1.000000</td>\n",
              "      <td>0.216225</td>\n",
              "    </tr>\n",
              "    <tr>\n",
              "      <th>Fare</th>\n",
              "      <td>0.257307</td>\n",
              "      <td>-0.549500</td>\n",
              "      <td>0.091566</td>\n",
              "      <td>0.159651</td>\n",
              "      <td>0.216225</td>\n",
              "      <td>1.000000</td>\n",
              "    </tr>\n",
              "  </tbody>\n",
              "</table>\n",
              "</div>"
            ],
            "text/plain": [
              "          Survived    Pclass       Age     SibSp     Parch      Fare\n",
              "Survived  1.000000 -0.338481 -0.069809 -0.035322  0.081629  0.257307\n",
              "Pclass   -0.338481  1.000000 -0.331339  0.083081  0.018443 -0.549500\n",
              "Age      -0.069809 -0.331339  1.000000 -0.232625 -0.179191  0.091566\n",
              "SibSp    -0.035322  0.083081 -0.232625  1.000000  0.414838  0.159651\n",
              "Parch     0.081629  0.018443 -0.179191  0.414838  1.000000  0.216225\n",
              "Fare      0.257307 -0.549500  0.091566  0.159651  0.216225  1.000000"
            ]
          },
          "metadata": {},
          "execution_count": 276
        }
      ]
    },
    {
      "cell_type": "code",
      "metadata": {
        "colab": {
          "base_uri": "https://localhost:8080/",
          "height": 0
        },
        "id": "7zghSL2pMSOM",
        "outputId": "4b97ed50-62cd-44f7-bb62-4c9796390a28"
      },
      "source": [
        "# visualizing the correlation on a heatmap\n",
        "plt.figure(figsize=(10,8))\n",
        "sns.heatmap(corr,annot=True)\n",
        "plt.show()"
      ],
      "execution_count": 277,
      "outputs": [
        {
          "output_type": "display_data",
          "data": {
            "image/png": "[encoded data removed]",
            "text/plain": [
              "<Figure size 720x576 with 2 Axes>"
            ]
          },
          "metadata": {}
        }
      ]
    },
    {
      "cell_type": "markdown",
      "metadata": {
        "id": "YxbXGdXfMyEW"
      },
      "source": [
        "* The correlations are low which means most of the features are independent.\n",
        "* The is low multi-collinearity."
      ]
    },
    {
      "cell_type": "markdown",
      "metadata": {
        "id": "sJsZwycsNHNk"
      },
      "source": [
        "# Feature Engineering"
      ]
    },
    {
      "cell_type": "markdown",
      "metadata": {
        "id": "4y6Zi2LNNO0z"
      },
      "source": [
        "## Size of the Family onboard"
      ]
    },
    {
      "cell_type": "code",
      "metadata": {
        "id": "6OXLRN6IMvOv"
      },
      "source": [
        "df_train6 = df_train5\n",
        "df_train6['family_size'] = df_train6.SibSp + df_train6.Parch+1"
      ],
      "execution_count": 278,
      "outputs": []
    },
    {
      "cell_type": "code",
      "metadata": {
        "id": "JOX5FulMOvfQ"
      },
      "source": [
        "def family(size):\n",
        "  a = ''\n",
        "  if (size <= 1):\n",
        "    a = 'alone'\n",
        "  elif (size <= 4):\n",
        "    a = 'wee'\n",
        "  else:\n",
        "    a = 'big'\n",
        "  return a"
      ],
      "execution_count": 279,
      "outputs": []
    },
    {
      "cell_type": "code",
      "metadata": {
        "colab": {
          "base_uri": "https://localhost:8080/",
          "height": 0
        },
        "id": "vmggdNFPPPus",
        "outputId": "2945dc53-6d7e-44e3-af42-bcd5a211ef50"
      },
      "source": [
        "df_train7 = df_train6\n",
        "df_train7['family'] = df_train7['family_size'].map(family)\n",
        "df_train7.head()"
      ],
      "execution_count": 280,
      "outputs": [
        {
          "output_type": "execute_result",
          "data": {
            "text/html": [
              "<div>\n",
              "<style scoped>\n",
              "    .dataframe tbody tr th:only-of-type {\n",
              "        vertical-align: middle;\n",
              "    }\n",
              "\n",
              "    .dataframe tbody tr th {\n",
              "        vertical-align: top;\n",
              "    }\n",
              "\n",
              "    .dataframe thead th {\n",
              "        text-align: right;\n",
              "    }\n",
              "</style>\n",
              "<table border=\"1\" class=\"dataframe\">\n",
              "  <thead>\n",
              "    <tr style=\"text-align: right;\">\n",
              "      <th></th>\n",
              "      <th>Survived</th>\n",
              "      <th>Pclass</th>\n",
              "      <th>Name</th>\n",
              "      <th>Sex</th>\n",
              "      <th>Age</th>\n",
              "      <th>SibSp</th>\n",
              "      <th>Parch</th>\n",
              "      <th>Fare</th>\n",
              "      <th>Cabin</th>\n",
              "      <th>Embarked</th>\n",
              "      <th>family_size</th>\n",
              "      <th>family</th>\n",
              "    </tr>\n",
              "  </thead>\n",
              "  <tbody>\n",
              "    <tr>\n",
              "      <th>0</th>\n",
              "      <td>0</td>\n",
              "      <td>3</td>\n",
              "      <td>Braund, Mr. Owen Harris</td>\n",
              "      <td>male</td>\n",
              "      <td>22.0</td>\n",
              "      <td>1</td>\n",
              "      <td>0</td>\n",
              "      <td>7.2500</td>\n",
              "      <td>z</td>\n",
              "      <td>S</td>\n",
              "      <td>2</td>\n",
              "      <td>wee</td>\n",
              "    </tr>\n",
              "    <tr>\n",
              "      <th>1</th>\n",
              "      <td>1</td>\n",
              "      <td>1</td>\n",
              "      <td>Cumings, Mrs. John Bradley (Florence Briggs Th...</td>\n",
              "      <td>female</td>\n",
              "      <td>38.0</td>\n",
              "      <td>1</td>\n",
              "      <td>0</td>\n",
              "      <td>71.2833</td>\n",
              "      <td>C</td>\n",
              "      <td>C</td>\n",
              "      <td>2</td>\n",
              "      <td>wee</td>\n",
              "    </tr>\n",
              "    <tr>\n",
              "      <th>2</th>\n",
              "      <td>1</td>\n",
              "      <td>3</td>\n",
              "      <td>Heikkinen, Miss. Laina</td>\n",
              "      <td>female</td>\n",
              "      <td>26.0</td>\n",
              "      <td>0</td>\n",
              "      <td>0</td>\n",
              "      <td>7.9250</td>\n",
              "      <td>z</td>\n",
              "      <td>S</td>\n",
              "      <td>1</td>\n",
              "      <td>alone</td>\n",
              "    </tr>\n",
              "    <tr>\n",
              "      <th>3</th>\n",
              "      <td>1</td>\n",
              "      <td>1</td>\n",
              "      <td>Futrelle, Mrs. Jacques Heath (Lily May Peel)</td>\n",
              "      <td>female</td>\n",
              "      <td>35.0</td>\n",
              "      <td>1</td>\n",
              "      <td>0</td>\n",
              "      <td>53.1000</td>\n",
              "      <td>C</td>\n",
              "      <td>S</td>\n",
              "      <td>2</td>\n",
              "      <td>wee</td>\n",
              "    </tr>\n",
              "    <tr>\n",
              "      <th>4</th>\n",
              "      <td>0</td>\n",
              "      <td>3</td>\n",
              "      <td>Allen, Mr. William Henry</td>\n",
              "      <td>male</td>\n",
              "      <td>35.0</td>\n",
              "      <td>0</td>\n",
              "      <td>0</td>\n",
              "      <td>8.0500</td>\n",
              "      <td>z</td>\n",
              "      <td>S</td>\n",
              "      <td>1</td>\n",
              "      <td>alone</td>\n",
              "    </tr>\n",
              "  </tbody>\n",
              "</table>\n",
              "</div>"
            ],
            "text/plain": [
              "   Survived  Pclass  ... family_size family\n",
              "0         0       3  ...           2    wee\n",
              "1         1       1  ...           2    wee\n",
              "2         1       3  ...           1  alone\n",
              "3         1       1  ...           2    wee\n",
              "4         0       3  ...           1  alone\n",
              "\n",
              "[5 rows x 12 columns]"
            ]
          },
          "metadata": {},
          "execution_count": 280
        }
      ]
    },
    {
      "cell_type": "markdown",
      "metadata": {
        "id": "mgoQl8sXP47E"
      },
      "source": [
        "## Fare Groups"
      ]
    },
    {
      "cell_type": "markdown",
      "metadata": {
        "id": "tSZ47zHvP_69"
      },
      "source": [
        "- The fare column gives the total fare paid therfore we need to divide the fare by the family size to obtain the fare paid per person"
      ]
    },
    {
      "cell_type": "code",
      "metadata": {
        "id": "oon0FR1hPvfX"
      },
      "source": [
        "# Calculating fare based on family size.\n",
        "# creating a copy\n",
        "df_train8 = df_train7\n",
        "df_train8['calculated_fare'] = df_train8.Fare/df_train8.family_size"
      ],
      "execution_count": 281,
      "outputs": []
    },
    {
      "cell_type": "code",
      "metadata": {
        "colab": {
          "base_uri": "https://localhost:8080/",
          "height": 0
        },
        "id": "vkno8gW_RDXm",
        "outputId": "e10a8383-bd4f-407a-dd7a-77b0c6cd2b44"
      },
      "source": [
        "def fare_group(fare):\n",
        "  a = ''\n",
        "  if fare <= 4:\n",
        "    a = 'Very_low'\n",
        "  elif fare <= 10:\n",
        "    a = 'low'\n",
        "  elif fare <= 20:\n",
        "    a = 'mid'\n",
        "  elif fare <= 45:\n",
        "    a = 'high'\n",
        "  else:\n",
        "    a = 'very_high'\n",
        "  return a\n",
        "\n",
        "df_train8['fare_group'] = df_train8['calculated_fare'].map(fare_group)\n",
        "df_train8.head()"
      ],
      "execution_count": 282,
      "outputs": [
        {
          "output_type": "execute_result",
          "data": {
            "text/html": [
              "<div>\n",
              "<style scoped>\n",
              "    .dataframe tbody tr th:only-of-type {\n",
              "        vertical-align: middle;\n",
              "    }\n",
              "\n",
              "    .dataframe tbody tr th {\n",
              "        vertical-align: top;\n",
              "    }\n",
              "\n",
              "    .dataframe thead th {\n",
              "        text-align: right;\n",
              "    }\n",
              "</style>\n",
              "<table border=\"1\" class=\"dataframe\">\n",
              "  <thead>\n",
              "    <tr style=\"text-align: right;\">\n",
              "      <th></th>\n",
              "      <th>Survived</th>\n",
              "      <th>Pclass</th>\n",
              "      <th>Name</th>\n",
              "      <th>Sex</th>\n",
              "      <th>Age</th>\n",
              "      <th>SibSp</th>\n",
              "      <th>Parch</th>\n",
              "      <th>Fare</th>\n",
              "      <th>Cabin</th>\n",
              "      <th>Embarked</th>\n",
              "      <th>family_size</th>\n",
              "      <th>family</th>\n",
              "      <th>calculated_fare</th>\n",
              "      <th>fare_group</th>\n",
              "    </tr>\n",
              "  </thead>\n",
              "  <tbody>\n",
              "    <tr>\n",
              "      <th>0</th>\n",
              "      <td>0</td>\n",
              "      <td>3</td>\n",
              "      <td>Braund, Mr. Owen Harris</td>\n",
              "      <td>male</td>\n",
              "      <td>22.0</td>\n",
              "      <td>1</td>\n",
              "      <td>0</td>\n",
              "      <td>7.2500</td>\n",
              "      <td>z</td>\n",
              "      <td>S</td>\n",
              "      <td>2</td>\n",
              "      <td>wee</td>\n",
              "      <td>3.62500</td>\n",
              "      <td>Very_low</td>\n",
              "    </tr>\n",
              "    <tr>\n",
              "      <th>1</th>\n",
              "      <td>1</td>\n",
              "      <td>1</td>\n",
              "      <td>Cumings, Mrs. John Bradley (Florence Briggs Th...</td>\n",
              "      <td>female</td>\n",
              "      <td>38.0</td>\n",
              "      <td>1</td>\n",
              "      <td>0</td>\n",
              "      <td>71.2833</td>\n",
              "      <td>C</td>\n",
              "      <td>C</td>\n",
              "      <td>2</td>\n",
              "      <td>wee</td>\n",
              "      <td>35.64165</td>\n",
              "      <td>high</td>\n",
              "    </tr>\n",
              "    <tr>\n",
              "      <th>2</th>\n",
              "      <td>1</td>\n",
              "      <td>3</td>\n",
              "      <td>Heikkinen, Miss. Laina</td>\n",
              "      <td>female</td>\n",
              "      <td>26.0</td>\n",
              "      <td>0</td>\n",
              "      <td>0</td>\n",
              "      <td>7.9250</td>\n",
              "      <td>z</td>\n",
              "      <td>S</td>\n",
              "      <td>1</td>\n",
              "      <td>alone</td>\n",
              "      <td>7.92500</td>\n",
              "      <td>low</td>\n",
              "    </tr>\n",
              "    <tr>\n",
              "      <th>3</th>\n",
              "      <td>1</td>\n",
              "      <td>1</td>\n",
              "      <td>Futrelle, Mrs. Jacques Heath (Lily May Peel)</td>\n",
              "      <td>female</td>\n",
              "      <td>35.0</td>\n",
              "      <td>1</td>\n",
              "      <td>0</td>\n",
              "      <td>53.1000</td>\n",
              "      <td>C</td>\n",
              "      <td>S</td>\n",
              "      <td>2</td>\n",
              "      <td>wee</td>\n",
              "      <td>26.55000</td>\n",
              "      <td>high</td>\n",
              "    </tr>\n",
              "    <tr>\n",
              "      <th>4</th>\n",
              "      <td>0</td>\n",
              "      <td>3</td>\n",
              "      <td>Allen, Mr. William Henry</td>\n",
              "      <td>male</td>\n",
              "      <td>35.0</td>\n",
              "      <td>0</td>\n",
              "      <td>0</td>\n",
              "      <td>8.0500</td>\n",
              "      <td>z</td>\n",
              "      <td>S</td>\n",
              "      <td>1</td>\n",
              "      <td>alone</td>\n",
              "      <td>8.05000</td>\n",
              "      <td>low</td>\n",
              "    </tr>\n",
              "  </tbody>\n",
              "</table>\n",
              "</div>"
            ],
            "text/plain": [
              "   Survived  Pclass  ... calculated_fare fare_group\n",
              "0         0       3  ...         3.62500   Very_low\n",
              "1         1       1  ...        35.64165       high\n",
              "2         1       3  ...         7.92500        low\n",
              "3         1       1  ...        26.55000       high\n",
              "4         0       3  ...         8.05000        low\n",
              "\n",
              "[5 rows x 14 columns]"
            ]
          },
          "metadata": {},
          "execution_count": 282
        }
      ]
    },
    {
      "cell_type": "markdown",
      "metadata": {
        "id": "rttAicnZSc2k"
      },
      "source": [
        "## Name"
      ]
    },
    {
      "cell_type": "code",
      "metadata": {
        "colab": {
          "base_uri": "https://localhost:8080/",
          "height": 0
        },
        "id": "kym9_K64R6wh",
        "outputId": "81264502-131f-4380-fb6b-eb385c92fd36"
      },
      "source": [
        "# creating a new column with a\n",
        "# creating a copy\n",
        "df_train9 = df_train8\n",
        "df_train9['name_lenth'] = [len(i)for i in df_train9.Name]\n",
        "\n",
        "def name_lenght_group(size):\n",
        "  a = ''\n",
        "  if (size <= 20):\n",
        "    a = 'short'\n",
        "  elif (size <= 35):\n",
        "    a = 'medium'\n",
        "  elif (size <= 45):\n",
        "    a = 'long'\n",
        "  else:\n",
        "    a = 'X_long'\n",
        "  return a\n",
        "\n",
        "df_train9['nLenght_group'] = df_train9['name_lenth'].map(name_lenght_group)\n",
        "df_train9.head()"
      ],
      "execution_count": 283,
      "outputs": [
        {
          "output_type": "execute_result",
          "data": {
            "text/html": [
              "<div>\n",
              "<style scoped>\n",
              "    .dataframe tbody tr th:only-of-type {\n",
              "        vertical-align: middle;\n",
              "    }\n",
              "\n",
              "    .dataframe tbody tr th {\n",
              "        vertical-align: top;\n",
              "    }\n",
              "\n",
              "    .dataframe thead th {\n",
              "        text-align: right;\n",
              "    }\n",
              "</style>\n",
              "<table border=\"1\" class=\"dataframe\">\n",
              "  <thead>\n",
              "    <tr style=\"text-align: right;\">\n",
              "      <th></th>\n",
              "      <th>Survived</th>\n",
              "      <th>Pclass</th>\n",
              "      <th>Name</th>\n",
              "      <th>Sex</th>\n",
              "      <th>Age</th>\n",
              "      <th>SibSp</th>\n",
              "      <th>Parch</th>\n",
              "      <th>Fare</th>\n",
              "      <th>Cabin</th>\n",
              "      <th>Embarked</th>\n",
              "      <th>family_size</th>\n",
              "      <th>family</th>\n",
              "      <th>calculated_fare</th>\n",
              "      <th>fare_group</th>\n",
              "      <th>name_lenth</th>\n",
              "      <th>nLenght_group</th>\n",
              "    </tr>\n",
              "  </thead>\n",
              "  <tbody>\n",
              "    <tr>\n",
              "      <th>0</th>\n",
              "      <td>0</td>\n",
              "      <td>3</td>\n",
              "      <td>Braund, Mr. Owen Harris</td>\n",
              "      <td>male</td>\n",
              "      <td>22.0</td>\n",
              "      <td>1</td>\n",
              "      <td>0</td>\n",
              "      <td>7.2500</td>\n",
              "      <td>z</td>\n",
              "      <td>S</td>\n",
              "      <td>2</td>\n",
              "      <td>wee</td>\n",
              "      <td>3.62500</td>\n",
              "      <td>Very_low</td>\n",
              "      <td>23</td>\n",
              "      <td>medium</td>\n",
              "    </tr>\n",
              "    <tr>\n",
              "      <th>1</th>\n",
              "      <td>1</td>\n",
              "      <td>1</td>\n",
              "      <td>Cumings, Mrs. John Bradley (Florence Briggs Th...</td>\n",
              "      <td>female</td>\n",
              "      <td>38.0</td>\n",
              "      <td>1</td>\n",
              "      <td>0</td>\n",
              "      <td>71.2833</td>\n",
              "      <td>C</td>\n",
              "      <td>C</td>\n",
              "      <td>2</td>\n",
              "      <td>wee</td>\n",
              "      <td>35.64165</td>\n",
              "      <td>high</td>\n",
              "      <td>51</td>\n",
              "      <td>X_long</td>\n",
              "    </tr>\n",
              "    <tr>\n",
              "      <th>2</th>\n",
              "      <td>1</td>\n",
              "      <td>3</td>\n",
              "      <td>Heikkinen, Miss. Laina</td>\n",
              "      <td>female</td>\n",
              "      <td>26.0</td>\n",
              "      <td>0</td>\n",
              "      <td>0</td>\n",
              "      <td>7.9250</td>\n",
              "      <td>z</td>\n",
              "      <td>S</td>\n",
              "      <td>1</td>\n",
              "      <td>alone</td>\n",
              "      <td>7.92500</td>\n",
              "      <td>low</td>\n",
              "      <td>22</td>\n",
              "      <td>medium</td>\n",
              "    </tr>\n",
              "    <tr>\n",
              "      <th>3</th>\n",
              "      <td>1</td>\n",
              "      <td>1</td>\n",
              "      <td>Futrelle, Mrs. Jacques Heath (Lily May Peel)</td>\n",
              "      <td>female</td>\n",
              "      <td>35.0</td>\n",
              "      <td>1</td>\n",
              "      <td>0</td>\n",
              "      <td>53.1000</td>\n",
              "      <td>C</td>\n",
              "      <td>S</td>\n",
              "      <td>2</td>\n",
              "      <td>wee</td>\n",
              "      <td>26.55000</td>\n",
              "      <td>high</td>\n",
              "      <td>44</td>\n",
              "      <td>long</td>\n",
              "    </tr>\n",
              "    <tr>\n",
              "      <th>4</th>\n",
              "      <td>0</td>\n",
              "      <td>3</td>\n",
              "      <td>Allen, Mr. William Henry</td>\n",
              "      <td>male</td>\n",
              "      <td>35.0</td>\n",
              "      <td>0</td>\n",
              "      <td>0</td>\n",
              "      <td>8.0500</td>\n",
              "      <td>z</td>\n",
              "      <td>S</td>\n",
              "      <td>1</td>\n",
              "      <td>alone</td>\n",
              "      <td>8.05000</td>\n",
              "      <td>low</td>\n",
              "      <td>24</td>\n",
              "      <td>medium</td>\n",
              "    </tr>\n",
              "  </tbody>\n",
              "</table>\n",
              "</div>"
            ],
            "text/plain": [
              "   Survived  Pclass  ... name_lenth nLenght_group\n",
              "0         0       3  ...         23        medium\n",
              "1         1       1  ...         51        X_long\n",
              "2         1       3  ...         22        medium\n",
              "3         1       1  ...         44          long\n",
              "4         0       3  ...         24        medium\n",
              "\n",
              "[5 rows x 16 columns]"
            ]
          },
          "metadata": {},
          "execution_count": 283
        }
      ]
    },
    {
      "cell_type": "code",
      "metadata": {
        "colab": {
          "base_uri": "https://localhost:8080/"
        },
        "id": "TZoiF07-WaaO",
        "outputId": "d55c6faf-ac23-412e-c007-388a1056a83c"
      },
      "source": [
        "df_train9.columns"
      ],
      "execution_count": 284,
      "outputs": [
        {
          "output_type": "execute_result",
          "data": {
            "text/plain": [
              "Index(['Survived', 'Pclass', 'Name', 'Sex', 'Age', 'SibSp', 'Parch', 'Fare',\n",
              "       'Cabin', 'Embarked', 'family_size', 'family', 'calculated_fare',\n",
              "       'fare_group', 'name_lenth', 'nLenght_group'],\n",
              "      dtype='object')"
            ]
          },
          "metadata": {},
          "execution_count": 284
        }
      ]
    },
    {
      "cell_type": "code",
      "metadata": {
        "id": "0nAgP6OXTcxS"
      },
      "source": [
        "train = pd.get_dummies(df_train9, columns=['Pclass','Sex','Cabin','Embarked','nLenght_group','family','fare_group'],drop_first=False)\n",
        "train.drop(['family_size','Name','Fare','name_lenth'],axis=1,inplace=True)"
      ],
      "execution_count": 285,
      "outputs": []
    },
    {
      "cell_type": "code",
      "metadata": {
        "colab": {
          "base_uri": "https://localhost:8080/",
          "height": 0
        },
        "id": "vQo5KpN-WJGB",
        "outputId": "3fdda50e-e081-494a-cb87-a31c1a806850"
      },
      "source": [
        "# finding the best principal components\n",
        "from sklearn.decomposition import PCA\n",
        "np.random.seed(0)\n",
        "\n",
        "X = train.drop('Survived', axis=1)\n",
        "y = train['Survived']\n",
        "\n",
        "train_features = X\n",
        "\n",
        "model = PCA(n_components=5).fit(train_features)\n",
        "\n",
        "# number of components\n",
        "n_pcs = model.components_.shape[0]\n",
        "\n",
        "# get the index of the most important feature on each component\n",
        "# list comprehension here\n",
        "most_important = [np.abs(model.components_[i]).argmax()for i in range(n_pcs)]\n",
        "initial_faeture_names = ['Age','SibSp','Parch','calculated_fare','Pclass_1','Pclass_2','Pclass_3','Sex_female','Sex_male','Cabin_A','Cabin_B','Cabin_C','Cabin_D','Cabin_E','Cabin_F','Cabin_G','Cabin_N','Cabin_T','Embarked_C','Embarked_Q','Embarked_S','nLength_group_X_long','nLenght_group_long','nLenght_group_medium','nLenght_group_short','family_alone','family_big','family_wee','fare_group_Very_low','fare_group_high','fare_group_low','fare_group_mid','fare_group_very_high']\n",
        "\n",
        "# get the names\n",
        "most_important_names = [initial_faeture_names[most_important[i]]for i in range(n_pcs)]\n",
        "\n",
        "# list comprehension here again \n",
        "dic = {'PC{}'.format(i): most_important_names[i]for i in range(n_pcs)}\n",
        "\n",
        "# build the dataframe\n",
        "df = pd.DataFrame(dic.items())\n",
        "df"
      ],
      "execution_count": 286,
      "outputs": [
        {
          "output_type": "execute_result",
          "data": {
            "text/html": [
              "<div>\n",
              "<style scoped>\n",
              "    .dataframe tbody tr th:only-of-type {\n",
              "        vertical-align: middle;\n",
              "    }\n",
              "\n",
              "    .dataframe tbody tr th {\n",
              "        vertical-align: top;\n",
              "    }\n",
              "\n",
              "    .dataframe thead th {\n",
              "        text-align: right;\n",
              "    }\n",
              "</style>\n",
              "<table border=\"1\" class=\"dataframe\">\n",
              "  <thead>\n",
              "    <tr style=\"text-align: right;\">\n",
              "      <th></th>\n",
              "      <th>0</th>\n",
              "      <th>1</th>\n",
              "    </tr>\n",
              "  </thead>\n",
              "  <tbody>\n",
              "    <tr>\n",
              "      <th>0</th>\n",
              "      <td>PC0</td>\n",
              "      <td>calculated_fare</td>\n",
              "    </tr>\n",
              "    <tr>\n",
              "      <th>1</th>\n",
              "      <td>PC1</td>\n",
              "      <td>Age</td>\n",
              "    </tr>\n",
              "    <tr>\n",
              "      <th>2</th>\n",
              "      <td>PC2</td>\n",
              "      <td>SibSp</td>\n",
              "    </tr>\n",
              "    <tr>\n",
              "      <th>3</th>\n",
              "      <td>PC3</td>\n",
              "      <td>Pclass_3</td>\n",
              "    </tr>\n",
              "    <tr>\n",
              "      <th>4</th>\n",
              "      <td>PC4</td>\n",
              "      <td>Parch</td>\n",
              "    </tr>\n",
              "  </tbody>\n",
              "</table>\n",
              "</div>"
            ],
            "text/plain": [
              "     0                1\n",
              "0  PC0  calculated_fare\n",
              "1  PC1              Age\n",
              "2  PC2            SibSp\n",
              "3  PC3         Pclass_3\n",
              "4  PC4            Parch"
            ]
          },
          "metadata": {},
          "execution_count": 286
        }
      ]
    },
    {
      "cell_type": "code",
      "metadata": {
        "colab": {
          "base_uri": "https://localhost:8080/"
        },
        "id": "EzM4mbgidGGU",
        "outputId": "91190d45-2687-423b-fda5-41b74ac01e1a"
      },
      "source": [
        "model.explained_variance_ratio_"
      ],
      "execution_count": 287,
      "outputs": [
        {
          "output_type": "execute_result",
          "data": {
            "text/plain": [
              "array([8.83199985e-01, 1.13295000e-01, 1.04727768e-03, 4.72848757e-04,\n",
              "       3.66893778e-04])"
            ]
          },
          "metadata": {},
          "execution_count": 287
        }
      ]
    },
    {
      "cell_type": "code",
      "metadata": {
        "colab": {
          "base_uri": "https://localhost:8080/",
          "height": 0
        },
        "id": "0DV-aMNzdqhx",
        "outputId": "9fdb8385-5010-4967-c18e-76a1c2467f69"
      },
      "source": [
        "X.head()"
      ],
      "execution_count": 288,
      "outputs": [
        {
          "output_type": "execute_result",
          "data": {
            "text/html": [
              "<div>\n",
              "<style scoped>\n",
              "    .dataframe tbody tr th:only-of-type {\n",
              "        vertical-align: middle;\n",
              "    }\n",
              "\n",
              "    .dataframe tbody tr th {\n",
              "        vertical-align: top;\n",
              "    }\n",
              "\n",
              "    .dataframe thead th {\n",
              "        text-align: right;\n",
              "    }\n",
              "</style>\n",
              "<table border=\"1\" class=\"dataframe\">\n",
              "  <thead>\n",
              "    <tr style=\"text-align: right;\">\n",
              "      <th></th>\n",
              "      <th>Age</th>\n",
              "      <th>SibSp</th>\n",
              "      <th>Parch</th>\n",
              "      <th>calculated_fare</th>\n",
              "      <th>Pclass_1</th>\n",
              "      <th>Pclass_2</th>\n",
              "      <th>Pclass_3</th>\n",
              "      <th>Sex_female</th>\n",
              "      <th>Sex_male</th>\n",
              "      <th>Cabin_A</th>\n",
              "      <th>Cabin_B</th>\n",
              "      <th>Cabin_C</th>\n",
              "      <th>Cabin_D</th>\n",
              "      <th>Cabin_E</th>\n",
              "      <th>Cabin_F</th>\n",
              "      <th>Cabin_G</th>\n",
              "      <th>Cabin_T</th>\n",
              "      <th>Cabin_z</th>\n",
              "      <th>Embarked_C</th>\n",
              "      <th>Embarked_Q</th>\n",
              "      <th>Embarked_S</th>\n",
              "      <th>nLenght_group_X_long</th>\n",
              "      <th>nLenght_group_long</th>\n",
              "      <th>nLenght_group_medium</th>\n",
              "      <th>nLenght_group_short</th>\n",
              "      <th>family_alone</th>\n",
              "      <th>family_big</th>\n",
              "      <th>family_wee</th>\n",
              "      <th>fare_group_Very_low</th>\n",
              "      <th>fare_group_high</th>\n",
              "      <th>fare_group_low</th>\n",
              "      <th>fare_group_mid</th>\n",
              "      <th>fare_group_very_high</th>\n",
              "    </tr>\n",
              "  </thead>\n",
              "  <tbody>\n",
              "    <tr>\n",
              "      <th>0</th>\n",
              "      <td>22.0</td>\n",
              "      <td>1</td>\n",
              "      <td>0</td>\n",
              "      <td>3.62500</td>\n",
              "      <td>0</td>\n",
              "      <td>0</td>\n",
              "      <td>1</td>\n",
              "      <td>0</td>\n",
              "      <td>1</td>\n",
              "      <td>0</td>\n",
              "      <td>0</td>\n",
              "      <td>0</td>\n",
              "      <td>0</td>\n",
              "      <td>0</td>\n",
              "      <td>0</td>\n",
              "      <td>0</td>\n",
              "      <td>0</td>\n",
              "      <td>1</td>\n",
              "      <td>0</td>\n",
              "      <td>0</td>\n",
              "      <td>1</td>\n",
              "      <td>0</td>\n",
              "      <td>0</td>\n",
              "      <td>1</td>\n",
              "      <td>0</td>\n",
              "      <td>0</td>\n",
              "      <td>0</td>\n",
              "      <td>1</td>\n",
              "      <td>1</td>\n",
              "      <td>0</td>\n",
              "      <td>0</td>\n",
              "      <td>0</td>\n",
              "      <td>0</td>\n",
              "    </tr>\n",
              "    <tr>\n",
              "      <th>1</th>\n",
              "      <td>38.0</td>\n",
              "      <td>1</td>\n",
              "      <td>0</td>\n",
              "      <td>35.64165</td>\n",
              "      <td>1</td>\n",
              "      <td>0</td>\n",
              "      <td>0</td>\n",
              "      <td>1</td>\n",
              "      <td>0</td>\n",
              "      <td>0</td>\n",
              "      <td>0</td>\n",
              "      <td>1</td>\n",
              "      <td>0</td>\n",
              "      <td>0</td>\n",
              "      <td>0</td>\n",
              "      <td>0</td>\n",
              "      <td>0</td>\n",
              "      <td>0</td>\n",
              "      <td>1</td>\n",
              "      <td>0</td>\n",
              "      <td>0</td>\n",
              "      <td>1</td>\n",
              "      <td>0</td>\n",
              "      <td>0</td>\n",
              "      <td>0</td>\n",
              "      <td>0</td>\n",
              "      <td>0</td>\n",
              "      <td>1</td>\n",
              "      <td>0</td>\n",
              "      <td>1</td>\n",
              "      <td>0</td>\n",
              "      <td>0</td>\n",
              "      <td>0</td>\n",
              "    </tr>\n",
              "    <tr>\n",
              "      <th>2</th>\n",
              "      <td>26.0</td>\n",
              "      <td>0</td>\n",
              "      <td>0</td>\n",
              "      <td>7.92500</td>\n",
              "      <td>0</td>\n",
              "      <td>0</td>\n",
              "      <td>1</td>\n",
              "      <td>1</td>\n",
              "      <td>0</td>\n",
              "      <td>0</td>\n",
              "      <td>0</td>\n",
              "      <td>0</td>\n",
              "      <td>0</td>\n",
              "      <td>0</td>\n",
              "      <td>0</td>\n",
              "      <td>0</td>\n",
              "      <td>0</td>\n",
              "      <td>1</td>\n",
              "      <td>0</td>\n",
              "      <td>0</td>\n",
              "      <td>1</td>\n",
              "      <td>0</td>\n",
              "      <td>0</td>\n",
              "      <td>1</td>\n",
              "      <td>0</td>\n",
              "      <td>1</td>\n",
              "      <td>0</td>\n",
              "      <td>0</td>\n",
              "      <td>0</td>\n",
              "      <td>0</td>\n",
              "      <td>1</td>\n",
              "      <td>0</td>\n",
              "      <td>0</td>\n",
              "    </tr>\n",
              "    <tr>\n",
              "      <th>3</th>\n",
              "      <td>35.0</td>\n",
              "      <td>1</td>\n",
              "      <td>0</td>\n",
              "      <td>26.55000</td>\n",
              "      <td>1</td>\n",
              "      <td>0</td>\n",
              "      <td>0</td>\n",
              "      <td>1</td>\n",
              "      <td>0</td>\n",
              "      <td>0</td>\n",
              "      <td>0</td>\n",
              "      <td>1</td>\n",
              "      <td>0</td>\n",
              "      <td>0</td>\n",
              "      <td>0</td>\n",
              "      <td>0</td>\n",
              "      <td>0</td>\n",
              "      <td>0</td>\n",
              "      <td>0</td>\n",
              "      <td>0</td>\n",
              "      <td>1</td>\n",
              "      <td>0</td>\n",
              "      <td>1</td>\n",
              "      <td>0</td>\n",
              "      <td>0</td>\n",
              "      <td>0</td>\n",
              "      <td>0</td>\n",
              "      <td>1</td>\n",
              "      <td>0</td>\n",
              "      <td>1</td>\n",
              "      <td>0</td>\n",
              "      <td>0</td>\n",
              "      <td>0</td>\n",
              "    </tr>\n",
              "    <tr>\n",
              "      <th>4</th>\n",
              "      <td>35.0</td>\n",
              "      <td>0</td>\n",
              "      <td>0</td>\n",
              "      <td>8.05000</td>\n",
              "      <td>0</td>\n",
              "      <td>0</td>\n",
              "      <td>1</td>\n",
              "      <td>0</td>\n",
              "      <td>1</td>\n",
              "      <td>0</td>\n",
              "      <td>0</td>\n",
              "      <td>0</td>\n",
              "      <td>0</td>\n",
              "      <td>0</td>\n",
              "      <td>0</td>\n",
              "      <td>0</td>\n",
              "      <td>0</td>\n",
              "      <td>1</td>\n",
              "      <td>0</td>\n",
              "      <td>0</td>\n",
              "      <td>1</td>\n",
              "      <td>0</td>\n",
              "      <td>0</td>\n",
              "      <td>1</td>\n",
              "      <td>0</td>\n",
              "      <td>1</td>\n",
              "      <td>0</td>\n",
              "      <td>0</td>\n",
              "      <td>0</td>\n",
              "      <td>0</td>\n",
              "      <td>1</td>\n",
              "      <td>0</td>\n",
              "      <td>0</td>\n",
              "    </tr>\n",
              "  </tbody>\n",
              "</table>\n",
              "</div>"
            ],
            "text/plain": [
              "    Age  SibSp  Parch  ...  fare_group_low  fare_group_mid  fare_group_very_high\n",
              "0  22.0      1      0  ...               0               0                     0\n",
              "1  38.0      1      0  ...               0               0                     0\n",
              "2  26.0      0      0  ...               1               0                     0\n",
              "3  35.0      1      0  ...               0               0                     0\n",
              "4  35.0      0      0  ...               1               0                     0\n",
              "\n",
              "[5 rows x 33 columns]"
            ]
          },
          "metadata": {},
          "execution_count": 288
        }
      ]
    },
    {
      "cell_type": "markdown",
      "metadata": {
        "id": "bKbhcdSwd5ee"
      },
      "source": [
        "# Modelling"
      ]
    },
    {
      "cell_type": "markdown",
      "metadata": {
        "id": "3Sdv7Uv5eKto"
      },
      "source": [
        "## Baseline Model: Logistic Regression"
      ]
    },
    {
      "cell_type": "code",
      "metadata": {
        "id": "aTMwEsRZdsnX"
      },
      "source": [
        "from sklearn.model_selection import train_test_split\n",
        "X_train, X_test, y_train, y_test = train_test_split(X,y, test_size=0.20)"
      ],
      "execution_count": 289,
      "outputs": []
    },
    {
      "cell_type": "code",
      "metadata": {
        "colab": {
          "base_uri": "https://localhost:8080/"
        },
        "id": "X3B994XHewTy",
        "outputId": "c2ab3294-e84a-4207-f31c-6c46872c8c74"
      },
      "source": [
        "# import LogisticRegression model in python\n",
        "from sklearn.linear_model import LogisticRegression\n",
        "from sklearn.metrics import mean_absolute_error, accuracy_score\n",
        "\n",
        "# call on the model object\n",
        "logreg = LogisticRegression(solver='liblinear')\n",
        "\n",
        "# fit the model with 'train_x' and 'train_y'\n",
        "logreg.fit(X_train,y_train)\n",
        "\n",
        "# Once the model is trained we want to find out how well the model is performing, so we test the model.\n",
        "# we use 'test_x' portion of the data(this data was not used to fit the model) to predict model outcome.\n",
        "y_pred = logreg.predict(X_test)\n",
        "\n",
        "# Once predicted we save that outcome in 'y_pred' variable\n",
        "# Then we compare the predicted value('y_pred') and actual value ('test_y') to see how well our model is performing.\n",
        "print('The accuracy Score is: {}'.format(round(accuracy_score(y_pred, y_test),5)))\n"
      ],
      "execution_count": 290,
      "outputs": [
        {
          "output_type": "stream",
          "name": "stdout",
          "text": [
            "The accuracy Score is: 0.80447\n"
          ]
        }
      ]
    },
    {
      "cell_type": "code",
      "metadata": {
        "colab": {
          "base_uri": "https://localhost:8080/"
        },
        "id": "g3JRGuf2i8om",
        "outputId": "fabc796b-8887-48dc-a5fd-5b5e822775e3"
      },
      "source": [
        "print(confusion_matrix(y_test,y_pred))"
      ],
      "execution_count": 291,
      "outputs": [
        {
          "output_type": "stream",
          "name": "stdout",
          "text": [
            "[[97 11]\n",
            " [24 47]]\n"
          ]
        }
      ]
    },
    {
      "cell_type": "markdown",
      "metadata": {
        "id": "ff4IXduajW2Z"
      },
      "source": [
        "* The baseline model has an accuracy of 80%\n",
        "* Confusion Matrix Summary\n",
        "    * True positive : 97\n",
        "    * True negative : 47\n",
        "    * False positive : 11\n",
        "    * False negative : 24"
      ]
    },
    {
      "cell_type": "markdown",
      "metadata": {
        "id": "FticAeBkkADs"
      },
      "source": [
        "## KNN: K-Nearest Neighbor"
      ]
    },
    {
      "cell_type": "markdown",
      "metadata": {
        "id": "EuH29T1rkHFf"
      },
      "source": [
        "### Approach 1: 80 - 20 split"
      ]
    },
    {
      "cell_type": "code",
      "metadata": {
        "id": "NCysjMgwjQJW"
      },
      "source": [
        "from sklearn.model_selection import train_test_split\n",
        "X_train,X_test,y_train,y_test = train_test_split(X,y,test_size=0.20,random_state=0)\n"
      ],
      "execution_count": 292,
      "outputs": []
    },
    {
      "cell_type": "code",
      "metadata": {
        "id": "JZ6Enn4SyB_B"
      },
      "source": [
        "from sklearn.preprocessing import StandardScaler\n",
        "scaler = StandardScaler()\n",
        "scaler.fit(X_train)\n",
        "\n",
        "X_train = scaler.transform(X_train)\n",
        "X_test = scaler.transform(X_test)"
      ],
      "execution_count": 293,
      "outputs": []
    },
    {
      "cell_type": "code",
      "metadata": {
        "colab": {
          "base_uri": "https://localhost:8080/"
        },
        "id": "AD_2Ib-QymV4",
        "outputId": "cd91fb1a-60a5-4452-fc8c-e6e210561134"
      },
      "source": [
        "from sklearn.neighbors import KNeighborsClassifier\n",
        "classifier = KNeighborsClassifier(n_neighbors=5)\n",
        "classifier.fit(X_train,y_train)"
      ],
      "execution_count": 294,
      "outputs": [
        {
          "output_type": "execute_result",
          "data": {
            "text/plain": [
              "KNeighborsClassifier(algorithm='auto', leaf_size=30, metric='minkowski',\n",
              "                     metric_params=None, n_jobs=None, n_neighbors=5, p=2,\n",
              "                     weights='uniform')"
            ]
          },
          "metadata": {},
          "execution_count": 294
        }
      ]
    },
    {
      "cell_type": "code",
      "metadata": {
        "id": "3avUr6O7zE_U"
      },
      "source": [
        "# the final step is to make predictions on our test data\n",
        "y_pred = classifier.predict(X_test)\n"
      ],
      "execution_count": 295,
      "outputs": []
    },
    {
      "cell_type": "code",
      "metadata": {
        "colab": {
          "base_uri": "https://localhost:8080/"
        },
        "id": "h2b8lnHszc4u",
        "outputId": "dca8b658-7d80-4c8f-f18a-ded8d9415a40"
      },
      "source": [
        "# Evaluating the algorithm\n",
        "# For evaluating an algorithm, confusion matrix, precision, recal;and f1 score are the most commonly used metrics\n",
        "# The confusion_metrix and classification_report methods of the sklearn.metrics can be used to calculate these metrics\n",
        "\n",
        "from sklearn.metrics import confusion_matrix, classification_report\n",
        "print(classification_report(y_test,y_pred))"
      ],
      "execution_count": 296,
      "outputs": [
        {
          "output_type": "stream",
          "name": "stdout",
          "text": [
            "              precision    recall  f1-score   support\n",
            "\n",
            "           0       0.80      0.90      0.85       110\n",
            "           1       0.80      0.64      0.71        69\n",
            "\n",
            "    accuracy                           0.80       179\n",
            "   macro avg       0.80      0.77      0.78       179\n",
            "weighted avg       0.80      0.80      0.79       179\n",
            "\n"
          ]
        }
      ]
    },
    {
      "cell_type": "code",
      "metadata": {
        "colab": {
          "base_uri": "https://localhost:8080/"
        },
        "id": "mr9ccSpu0lYo",
        "outputId": "74d7f98b-f52a-4a40-bea8-754b8cb665a4"
      },
      "source": [
        "accuracy_score(y_test,y_pred)"
      ],
      "execution_count": 297,
      "outputs": [
        {
          "output_type": "execute_result",
          "data": {
            "text/plain": [
              "0.7988826815642458"
            ]
          },
          "metadata": {},
          "execution_count": 297
        }
      ]
    },
    {
      "cell_type": "code",
      "metadata": {
        "colab": {
          "base_uri": "https://localhost:8080/"
        },
        "id": "j-JGcGhn0xWI",
        "outputId": "8d609dc1-301d-4bfb-e86d-27f3da1e5dbd"
      },
      "source": [
        "print(confusion_matrix(y_test, y_pred))"
      ],
      "execution_count": 298,
      "outputs": [
        {
          "output_type": "stream",
          "name": "stdout",
          "text": [
            "[[99 11]\n",
            " [25 44]]\n"
          ]
        }
      ]
    },
    {
      "cell_type": "markdown",
      "metadata": {
        "id": "rxBCl8fk1N14"
      },
      "source": [
        "* The KNN model with split 80-20 has an accuracy of 79.89%\n",
        "* Confusion Matrix Summary\n",
        "    * True positive : 99\n",
        "    * True negative : 45\n",
        "    * False positive : 11\n",
        "    * False negative : 25"
      ]
    },
    {
      "cell_type": "markdown",
      "metadata": {
        "id": "7usB_Fqv13Yv"
      },
      "source": [
        "### Approach 2: 70 - 30 split"
      ]
    },
    {
      "cell_type": "code",
      "metadata": {
        "id": "rhDicko62ECO"
      },
      "source": [
        "from sklearn.model_selection import train_test_split\n",
        "X_train, X_test, y_train,y_test = train_test_split(X,y,test_size=0.30, random_state=0)"
      ],
      "execution_count": 299,
      "outputs": []
    },
    {
      "cell_type": "code",
      "metadata": {
        "id": "rkHy6Kk41K9b"
      },
      "source": [
        "from sklearn.preprocessing import StandardScaler\n",
        "scaler = StandardScaler()\n",
        "scaler.fit(X_train)\n",
        "\n",
        "X_train = scaler.transform(X_train)\n",
        "X_test = scaler.transform(X_test)\n"
      ],
      "execution_count": 300,
      "outputs": []
    },
    {
      "cell_type": "code",
      "metadata": {
        "colab": {
          "base_uri": "https://localhost:8080/"
        },
        "id": "IYmzGoab4ex-",
        "outputId": "24ea70cd-c0ba-45ee-9566-00514bc713d1"
      },
      "source": [
        "from sklearn.neighbors import KNeighborsClassifier\n",
        "classifier = KNeighborsClassifier(n_neighbors=5)\n",
        "classifier.fit(X_train,y_train)"
      ],
      "execution_count": 301,
      "outputs": [
        {
          "output_type": "execute_result",
          "data": {
            "text/plain": [
              "KNeighborsClassifier(algorithm='auto', leaf_size=30, metric='minkowski',\n",
              "                     metric_params=None, n_jobs=None, n_neighbors=5, p=2,\n",
              "                     weights='uniform')"
            ]
          },
          "metadata": {},
          "execution_count": 301
        }
      ]
    },
    {
      "cell_type": "code",
      "metadata": {
        "id": "hz3FiYNt48PW"
      },
      "source": [
        "# The final step is to make predictions on our test data\n",
        "y_pred = classifier.predict(X_test)\n"
      ],
      "execution_count": 302,
      "outputs": []
    },
    {
      "cell_type": "code",
      "metadata": {
        "colab": {
          "base_uri": "https://localhost:8080/"
        },
        "id": "paoCs1vf5hDR",
        "outputId": "889fa840-c8eb-4612-95b9-8759cdaaad3d"
      },
      "source": [
        "# Evaluating our algorithm\n",
        "# For evaluating an algorithm, confusion matrix, precision, recall and f1scare are the most commonly used metrics.\n",
        "# the confusion_matrix and classification_report methods of the sklearn.metrics can be used to calculate these metrics.\n",
        "\n",
        "from sklearn.metrics import classification_report, confusion_matrix\n",
        "print(classification_report(y_test,y_pred))"
      ],
      "execution_count": 303,
      "outputs": [
        {
          "output_type": "stream",
          "name": "stdout",
          "text": [
            "              precision    recall  f1-score   support\n",
            "\n",
            "           0       0.80      0.90      0.85       168\n",
            "           1       0.80      0.63      0.70       100\n",
            "\n",
            "    accuracy                           0.80       268\n",
            "   macro avg       0.80      0.77      0.78       268\n",
            "weighted avg       0.80      0.80      0.80       268\n",
            "\n"
          ]
        }
      ]
    },
    {
      "cell_type": "code",
      "metadata": {
        "colab": {
          "base_uri": "https://localhost:8080/"
        },
        "id": "bGCD6UPf6px7",
        "outputId": "d0e1894d-807a-4745-c807-922ae20b4dcf"
      },
      "source": [
        "accuracy_score(y_test,y_pred)"
      ],
      "execution_count": 304,
      "outputs": [
        {
          "output_type": "execute_result",
          "data": {
            "text/plain": [
              "0.8022388059701493"
            ]
          },
          "metadata": {},
          "execution_count": 304
        }
      ]
    },
    {
      "cell_type": "code",
      "metadata": {
        "colab": {
          "base_uri": "https://localhost:8080/"
        },
        "id": "XktQVaYi604b",
        "outputId": "2fbb2c15-cb21-4af7-91ab-a21a5310c1f9"
      },
      "source": [
        "print(confusion_matrix(y_test,y_pred))"
      ],
      "execution_count": 305,
      "outputs": [
        {
          "output_type": "stream",
          "name": "stdout",
          "text": [
            "[[152  16]\n",
            " [ 37  63]]\n"
          ]
        }
      ]
    },
    {
      "cell_type": "markdown",
      "metadata": {
        "id": "8vrlkkil7HcW"
      },
      "source": [
        "* The KNN model split of 70 - 30 has an accuracy of 70%\n",
        "* Confusion Matrix Summary\n",
        "    * True positive : 140\n",
        "    * True negative : 48\n",
        "    * False positive : 28\n",
        "    * False negative : 52"
      ]
    },
    {
      "cell_type": "markdown",
      "metadata": {
        "id": "Q0jN6ym_73Te"
      },
      "source": [
        "### Approach 3: 60 - 40 split"
      ]
    },
    {
      "cell_type": "code",
      "metadata": {
        "id": "jUA6mLbc72ua"
      },
      "source": [
        "from sklearn.model_selection import train_test_split\n",
        "X_train, X_test, y_train,y_test = train_test_split(X,y,test_size= 0.40, random_state=0)"
      ],
      "execution_count": 306,
      "outputs": []
    },
    {
      "cell_type": "code",
      "metadata": {
        "id": "lpXgVO-27FYE"
      },
      "source": [
        "from sklearn.preprocessing import StandardScaler\n",
        "scaler = StandardScaler()\n",
        "scaler.fit(X_train)\n",
        "\n",
        "X_train = scaler.transform(X_train)\n",
        "X_test = scaler.transform(X_test)"
      ],
      "execution_count": 307,
      "outputs": []
    },
    {
      "cell_type": "code",
      "metadata": {
        "colab": {
          "base_uri": "https://localhost:8080/"
        },
        "id": "FbUQeL979x4o",
        "outputId": "11d30b1f-b6dd-45ba-ea98-6301d9e97b4e"
      },
      "source": [
        "from sklearn.neighbors import KNeighborsClassifier\n",
        "classifier = KNeighborsClassifier()\n",
        "classifier.fit(X_train,y_train)\n"
      ],
      "execution_count": 308,
      "outputs": [
        {
          "output_type": "execute_result",
          "data": {
            "text/plain": [
              "KNeighborsClassifier(algorithm='auto', leaf_size=30, metric='minkowski',\n",
              "                     metric_params=None, n_jobs=None, n_neighbors=5, p=2,\n",
              "                     weights='uniform')"
            ]
          },
          "metadata": {},
          "execution_count": 308
        }
      ]
    },
    {
      "cell_type": "code",
      "metadata": {
        "id": "eihVzVtH-HTq"
      },
      "source": [
        "# the final step is to make prediction on our test data\n",
        "y_pred = classifier.predict(X_test)\n"
      ],
      "execution_count": 309,
      "outputs": []
    },
    {
      "cell_type": "code",
      "metadata": {
        "colab": {
          "base_uri": "https://localhost:8080/"
        },
        "id": "tszcJsiL-fFi",
        "outputId": "75a367b0-e599-45d2-b742-a7b98bcaccb0"
      },
      "source": [
        "# evaluating the algorithm\n",
        "# for evaluating an algorithm, confusion matrix,precision, recall and f1 score are the most commonly used metrics\n",
        "# The confusion_matrix and classification_report methods of the sklearn.metrics can be used to calculate these metrics.\n",
        "from sklearn.metrics import classification_report, confusion_matrix\n",
        "print(classification_report(y_test,y_pred))"
      ],
      "execution_count": 310,
      "outputs": [
        {
          "output_type": "stream",
          "name": "stdout",
          "text": [
            "              precision    recall  f1-score   support\n",
            "\n",
            "           0       0.79      0.87      0.83       221\n",
            "           1       0.75      0.63      0.69       136\n",
            "\n",
            "    accuracy                           0.78       357\n",
            "   macro avg       0.77      0.75      0.76       357\n",
            "weighted avg       0.78      0.78      0.77       357\n",
            "\n"
          ]
        }
      ]
    },
    {
      "cell_type": "code",
      "metadata": {
        "colab": {
          "base_uri": "https://localhost:8080/"
        },
        "id": "EwRWh8H2_mAs",
        "outputId": "3fa87468-5693-42c3-de18-394b20c5ee17"
      },
      "source": [
        "accuracy_score(y_test,y_pred)"
      ],
      "execution_count": 311,
      "outputs": [
        {
          "output_type": "execute_result",
          "data": {
            "text/plain": [
              "0.7787114845938375"
            ]
          },
          "metadata": {},
          "execution_count": 311
        }
      ]
    },
    {
      "cell_type": "code",
      "metadata": {
        "colab": {
          "base_uri": "https://localhost:8080/"
        },
        "id": "hCyJuFqj_ucA",
        "outputId": "40e731af-8023-4e54-fd71-a9fa30626934"
      },
      "source": [
        "print(confusion_matrix(y_test,y_pred))"
      ],
      "execution_count": 312,
      "outputs": [
        {
          "output_type": "stream",
          "name": "stdout",
          "text": [
            "[[192  29]\n",
            " [ 50  86]]\n"
          ]
        }
      ]
    },
    {
      "cell_type": "markdown",
      "metadata": {
        "id": "SgCjczFr_-d7"
      },
      "source": [
        "* The KNN model with a split of 60 - 40 has an accuracy 77.87%\n",
        "* Confusion Matrix Summary\n",
        "    * True positive : 192\n",
        "    * True negative : 86\n",
        "    * False positive : 29\n",
        "    * False negative : 50"
      ]
    },
    {
      "cell_type": "markdown",
      "metadata": {
        "id": "sLtX_xGVArco"
      },
      "source": [
        "## Naive Bayes"
      ]
    },
    {
      "cell_type": "code",
      "metadata": {
        "id": "dcOkqqnO_8dt"
      },
      "source": [
        "# Splitting our data into a training set and a test set\n",
        "X_train,X_test,y_train,y_test = train_test_split(X,y,test_size=0.3,random_state=6)"
      ],
      "execution_count": 313,
      "outputs": []
    },
    {
      "cell_type": "code",
      "metadata": {
        "id": "IP8eDKYeBbux"
      },
      "source": [
        "# Training our model\n",
        "clf = GaussianNB()\n",
        "model = clf.fit(X_train,y_train)"
      ],
      "execution_count": 314,
      "outputs": []
    },
    {
      "cell_type": "code",
      "metadata": {
        "colab": {
          "base_uri": "https://localhost:8080/"
        },
        "id": "-ynYB6LhB8T8",
        "outputId": "3d1b6f3e-2381-4663-b31c-495110188710"
      },
      "source": [
        "# predicting our test predictors\n",
        "predicted = model.predict(X_test)\n",
        "print(np.mean(predicted == y_test))\n"
      ],
      "execution_count": 315,
      "outputs": [
        {
          "output_type": "stream",
          "name": "stdout",
          "text": [
            "0.7798507462686567\n"
          ]
        }
      ]
    },
    {
      "cell_type": "markdown",
      "metadata": {
        "id": "8icMbQg9CiaP"
      },
      "source": [
        "* The Naive Bayes model has an acuracy of 77.99%"
      ]
    },
    {
      "cell_type": "markdown",
      "metadata": {
        "id": "kgNFX7CrCvN-"
      },
      "source": [
        "# Challenging the solution: Dimensionality Reduction"
      ]
    },
    {
      "cell_type": "markdown",
      "metadata": {
        "id": "kr8RP8NqDEmN"
      },
      "source": [
        "## Approach 1: 5 Principal Components\n",
        "\n",
        "KNN and Naive Bayes Models using 5 Principal Components"
      ]
    },
    {
      "cell_type": "code",
      "metadata": {
        "colab": {
          "base_uri": "https://localhost:8080/",
          "height": 0
        },
        "id": "KHmbUlYiCczm",
        "outputId": "36b6a111-714e-477c-d227-32df777b0ca7"
      },
      "source": [
        "df"
      ],
      "execution_count": 316,
      "outputs": [
        {
          "output_type": "execute_result",
          "data": {
            "text/html": [
              "<div>\n",
              "<style scoped>\n",
              "    .dataframe tbody tr th:only-of-type {\n",
              "        vertical-align: middle;\n",
              "    }\n",
              "\n",
              "    .dataframe tbody tr th {\n",
              "        vertical-align: top;\n",
              "    }\n",
              "\n",
              "    .dataframe thead th {\n",
              "        text-align: right;\n",
              "    }\n",
              "</style>\n",
              "<table border=\"1\" class=\"dataframe\">\n",
              "  <thead>\n",
              "    <tr style=\"text-align: right;\">\n",
              "      <th></th>\n",
              "      <th>0</th>\n",
              "      <th>1</th>\n",
              "    </tr>\n",
              "  </thead>\n",
              "  <tbody>\n",
              "    <tr>\n",
              "      <th>0</th>\n",
              "      <td>PC0</td>\n",
              "      <td>calculated_fare</td>\n",
              "    </tr>\n",
              "    <tr>\n",
              "      <th>1</th>\n",
              "      <td>PC1</td>\n",
              "      <td>Age</td>\n",
              "    </tr>\n",
              "    <tr>\n",
              "      <th>2</th>\n",
              "      <td>PC2</td>\n",
              "      <td>SibSp</td>\n",
              "    </tr>\n",
              "    <tr>\n",
              "      <th>3</th>\n",
              "      <td>PC3</td>\n",
              "      <td>Pclass_3</td>\n",
              "    </tr>\n",
              "    <tr>\n",
              "      <th>4</th>\n",
              "      <td>PC4</td>\n",
              "      <td>Parch</td>\n",
              "    </tr>\n",
              "  </tbody>\n",
              "</table>\n",
              "</div>"
            ],
            "text/plain": [
              "     0                1\n",
              "0  PC0  calculated_fare\n",
              "1  PC1              Age\n",
              "2  PC2            SibSp\n",
              "3  PC3         Pclass_3\n",
              "4  PC4            Parch"
            ]
          },
          "metadata": {},
          "execution_count": 316
        }
      ]
    },
    {
      "cell_type": "code",
      "metadata": {
        "colab": {
          "base_uri": "https://localhost:8080/",
          "height": 0
        },
        "id": "dERRFHNDD4ia",
        "outputId": "79ff0c9a-9bfd-46a5-a9c0-b8a7991b9683"
      },
      "source": [
        "# reviewing the solution\n",
        "# modelling using the first 5 principal components\n",
        "X1 = X[['Age','SibSp','Parch','calculated_fare','Pclass_3']]\n",
        "X1.head()"
      ],
      "execution_count": 317,
      "outputs": [
        {
          "output_type": "execute_result",
          "data": {
            "text/html": [
              "<div>\n",
              "<style scoped>\n",
              "    .dataframe tbody tr th:only-of-type {\n",
              "        vertical-align: middle;\n",
              "    }\n",
              "\n",
              "    .dataframe tbody tr th {\n",
              "        vertical-align: top;\n",
              "    }\n",
              "\n",
              "    .dataframe thead th {\n",
              "        text-align: right;\n",
              "    }\n",
              "</style>\n",
              "<table border=\"1\" class=\"dataframe\">\n",
              "  <thead>\n",
              "    <tr style=\"text-align: right;\">\n",
              "      <th></th>\n",
              "      <th>Age</th>\n",
              "      <th>SibSp</th>\n",
              "      <th>Parch</th>\n",
              "      <th>calculated_fare</th>\n",
              "      <th>Pclass_3</th>\n",
              "    </tr>\n",
              "  </thead>\n",
              "  <tbody>\n",
              "    <tr>\n",
              "      <th>0</th>\n",
              "      <td>22.0</td>\n",
              "      <td>1</td>\n",
              "      <td>0</td>\n",
              "      <td>3.62500</td>\n",
              "      <td>1</td>\n",
              "    </tr>\n",
              "    <tr>\n",
              "      <th>1</th>\n",
              "      <td>38.0</td>\n",
              "      <td>1</td>\n",
              "      <td>0</td>\n",
              "      <td>35.64165</td>\n",
              "      <td>0</td>\n",
              "    </tr>\n",
              "    <tr>\n",
              "      <th>2</th>\n",
              "      <td>26.0</td>\n",
              "      <td>0</td>\n",
              "      <td>0</td>\n",
              "      <td>7.92500</td>\n",
              "      <td>1</td>\n",
              "    </tr>\n",
              "    <tr>\n",
              "      <th>3</th>\n",
              "      <td>35.0</td>\n",
              "      <td>1</td>\n",
              "      <td>0</td>\n",
              "      <td>26.55000</td>\n",
              "      <td>0</td>\n",
              "    </tr>\n",
              "    <tr>\n",
              "      <th>4</th>\n",
              "      <td>35.0</td>\n",
              "      <td>0</td>\n",
              "      <td>0</td>\n",
              "      <td>8.05000</td>\n",
              "      <td>1</td>\n",
              "    </tr>\n",
              "  </tbody>\n",
              "</table>\n",
              "</div>"
            ],
            "text/plain": [
              "    Age  SibSp  Parch  calculated_fare  Pclass_3\n",
              "0  22.0      1      0          3.62500         1\n",
              "1  38.0      1      0         35.64165         0\n",
              "2  26.0      0      0          7.92500         1\n",
              "3  35.0      1      0         26.55000         0\n",
              "4  35.0      0      0          8.05000         1"
            ]
          },
          "metadata": {},
          "execution_count": 317
        }
      ]
    },
    {
      "cell_type": "markdown",
      "metadata": {
        "id": "3an-in1PFDPI"
      },
      "source": [
        "### KNN"
      ]
    },
    {
      "cell_type": "code",
      "metadata": {
        "id": "XuDec7BTE6Uw"
      },
      "source": [
        "from sklearn.model_selection import train_test_split\n",
        "X_train,X_test,y_train,y_test = train_test_split(X,y,test_size=0.20,random_state=6)"
      ],
      "execution_count": 318,
      "outputs": []
    },
    {
      "cell_type": "code",
      "metadata": {
        "id": "Etv12M9lFoDL"
      },
      "source": [
        "from sklearn.preprocessing import StandardScaler\n",
        "scaler = StandardScaler()\n",
        "scaler.fit(X_train)\n",
        "\n",
        "X_train = scaler.transform(X_train)\n",
        "X_test = scaler.transform(X_test)"
      ],
      "execution_count": 319,
      "outputs": []
    },
    {
      "cell_type": "code",
      "metadata": {
        "colab": {
          "base_uri": "https://localhost:8080/"
        },
        "id": "E0t7Rm40GQAE",
        "outputId": "77f26808-307c-4f38-d60b-f7cc8adb64a2"
      },
      "source": [
        "from sklearn.neighbors import KNeighborsClassifier\n",
        "classifier = KNeighborsClassifier(n_neighbors=5)\n",
        "classifier.fit(X_train,y_train)"
      ],
      "execution_count": 320,
      "outputs": [
        {
          "output_type": "execute_result",
          "data": {
            "text/plain": [
              "KNeighborsClassifier(algorithm='auto', leaf_size=30, metric='minkowski',\n",
              "                     metric_params=None, n_jobs=None, n_neighbors=5, p=2,\n",
              "                     weights='uniform')"
            ]
          },
          "metadata": {},
          "execution_count": 320
        }
      ]
    },
    {
      "cell_type": "code",
      "metadata": {
        "id": "orIVPghdGqBL"
      },
      "source": [
        "y_pred = classifier.predict(X_test)"
      ],
      "execution_count": 321,
      "outputs": []
    },
    {
      "cell_type": "code",
      "metadata": {
        "colab": {
          "base_uri": "https://localhost:8080/"
        },
        "id": "5arpHSDoG29w",
        "outputId": "9859515d-6418-4884-c33e-2163292bbaa2"
      },
      "source": [
        "# evaluating the algorithm\n",
        "from sklearn.metrics import classification_report,confusion_matrix\n",
        "print(classification_report(y_test,y_pred))"
      ],
      "execution_count": 322,
      "outputs": [
        {
          "output_type": "stream",
          "name": "stdout",
          "text": [
            "              precision    recall  f1-score   support\n",
            "\n",
            "           0       0.79      0.86      0.82       113\n",
            "           1       0.71      0.61      0.66        66\n",
            "\n",
            "    accuracy                           0.77       179\n",
            "   macro avg       0.75      0.73      0.74       179\n",
            "weighted avg       0.76      0.77      0.76       179\n",
            "\n"
          ]
        }
      ]
    },
    {
      "cell_type": "code",
      "metadata": {
        "colab": {
          "base_uri": "https://localhost:8080/"
        },
        "id": "FKZ4ov8wHQVu",
        "outputId": "f17b6c71-2eac-4fa0-e9f8-0df2a9c58e14"
      },
      "source": [
        "accuracy_score(y_test,y_pred)"
      ],
      "execution_count": 323,
      "outputs": [
        {
          "output_type": "execute_result",
          "data": {
            "text/plain": [
              "0.7653631284916201"
            ]
          },
          "metadata": {},
          "execution_count": 323
        }
      ]
    },
    {
      "cell_type": "code",
      "metadata": {
        "colab": {
          "base_uri": "https://localhost:8080/"
        },
        "id": "iRwHniW1HXqR",
        "outputId": "d3129317-652e-40ac-eaa7-d432bd9db0b4"
      },
      "source": [
        "print(confusion_matrix(y_test,y_pred))"
      ],
      "execution_count": 324,
      "outputs": [
        {
          "output_type": "stream",
          "name": "stdout",
          "text": [
            "[[97 16]\n",
            " [26 40]]\n"
          ]
        }
      ]
    },
    {
      "cell_type": "markdown",
      "metadata": {
        "id": "AiyYpnPoHkby"
      },
      "source": [
        "* The KNN model has an accuracy of 76.5%\n",
        "* Confusion Matrix Summary\n",
        "    * True positive: 97\n",
        "    * True negative: 40\n",
        "    * False positive: 16\n",
        "    * False negative: 26"
      ]
    },
    {
      "cell_type": "markdown",
      "metadata": {
        "id": "u_O3TchJIWz4"
      },
      "source": [
        "## Approach 2: LDA"
      ]
    },
    {
      "cell_type": "code",
      "metadata": {
        "id": "XxRaNv44HiH8"
      },
      "source": [
        "# Splitting the dataset into the training set and test set\n",
        "from sklearn.model_selection import train_test_split\n",
        "\n",
        "A_train,A_test,b_train,b_test = train_test_split(X,y,test_size=.2,random_state=0)\n"
      ],
      "execution_count": 325,
      "outputs": []
    },
    {
      "cell_type": "code",
      "metadata": {
        "id": "0VOgUprtJpio"
      },
      "source": [
        "# normalization\n",
        "from sklearn.preprocessing import StandardScaler\n",
        "\n",
        "sc = StandardScaler()\n",
        "A_train = sc.fit_transform(A_train)\n",
        "A_test = sc.transform(A_test)"
      ],
      "execution_count": 326,
      "outputs": []
    },
    {
      "cell_type": "code",
      "metadata": {
        "id": "8nlu2QPILE1M"
      },
      "source": [
        "# performing LDA \n",
        "from sklearn.discriminant_analysis import LinearDiscriminantAnalysis as LDA\n",
        "lda = LDA(n_components=2)\n",
        "A_train = lda.fit_transform(A_train,b_train)\n",
        "A_test = lda.transform(A_test)"
      ],
      "execution_count": 327,
      "outputs": []
    },
    {
      "cell_type": "code",
      "metadata": {
        "id": "81RUfK7GMJET"
      },
      "source": [
        "# Training and Making Predictions\n",
        "from sklearn.ensemble import RandomForestClassifier\n",
        "\n",
        "classifier = RandomForestClassifier(max_depth=2, random_state=0)\n",
        "classifier.fit(A_train,b_train)\n",
        "b_pred = classifier.predict(A_test)\n"
      ],
      "execution_count": 328,
      "outputs": []
    },
    {
      "cell_type": "code",
      "metadata": {
        "colab": {
          "base_uri": "https://localhost:8080/"
        },
        "id": "Z_nKfP63NEnv",
        "outputId": "0fa33f87-b045-4983-b2a3-f581264cc87c"
      },
      "source": [
        "# Evaluating the performance\n",
        "from sklearn.metrics import confusion_matrix\n",
        "from sklearn.metrics import accuracy_score\n",
        "\n",
        "print(confusion_matrix(b_test,b_pred))\n",
        "\n",
        "print('Accuracy' + str(accuracy_score(b_test,b_pred)))"
      ],
      "execution_count": 329,
      "outputs": [
        {
          "output_type": "stream",
          "name": "stdout",
          "text": [
            "[[97 13]\n",
            " [19 50]]\n",
            "Accuracy0.8212290502793296\n"
          ]
        }
      ]
    },
    {
      "cell_type": "markdown",
      "metadata": {
        "id": "q8D_xF0xOtEg"
      },
      "source": [
        "* LDA modelhas an accuracy of 82%\n",
        "* Confusion Matrix Summary\n",
        "    * True positive : 97\n",
        "    * True negative : 50\n",
        "    * False positive : 13\n",
        "    * False negative : 19"
      ]
    },
    {
      "cell_type": "markdown",
      "metadata": {
        "id": "5ZvPliqqQedw"
      },
      "source": [
        "* Modelling Accuracy Score Summary\n",
        "\n",
        "   * Logistic Regression : 80%\n",
        "   * KNN                 : 70% (using the 70 - 30 split)\n",
        "   * After PCA           : 76.5%\n",
        "   * Naive Bayes         : 77.99%\n",
        "   * LDA                 : 82%"
      ]
    },
    {
      "cell_type": "markdown",
      "metadata": {
        "id": "2L4515JzR1No"
      },
      "source": [
        "* The best predictor is the LDA model followed by the baseline model: Logistic Regressor."
      ]
    },
    {
      "cell_type": "markdown",
      "metadata": {
        "id": "cmbNdulvSI32"
      },
      "source": [
        "# Follow up questions"
      ]
    },
    {
      "cell_type": "markdown",
      "metadata": {
        "id": "8GeA69DPSU9G"
      },
      "source": [
        "At this point, we can refine our question or collect new data. All in an iterative process to get to the truth."
      ]
    },
    {
      "cell_type": "markdown",
      "metadata": {
        "id": "-UIaYjq_S1ZQ"
      },
      "source": [
        " a). Did we have the right data?\n",
        "   * Yes, the data was sufficient and the features were useful in modelling.\n",
        "   * The models above achieved almost the same accuracy levels which means that the data is good for training\n"
      ]
    },
    {
      "cell_type": "markdown",
      "metadata": {
        "id": "CR7wz45cTlGe"
      },
      "source": [
        "b). Do we need other data to answer our question?\n",
        "* More Feature Engineering may be done to uncover more patterns in the data that may improve the model accuracy."
      ]
    },
    {
      "cell_type": "markdown",
      "metadata": {
        "id": "u2reZ-wrUM6q"
      },
      "source": [
        "c). Did we have the right question?\n",
        "* Yes, predicting survival based on past disasters helps us understand panic psychology and what to anticipate incase disaster strikes in future"
      ]
    }
  ]
}